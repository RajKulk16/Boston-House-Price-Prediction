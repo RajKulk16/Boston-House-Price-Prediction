{
 "cells": [
  {
   "cell_type": "code",
   "execution_count": 1,
   "id": "b67d7afb",
   "metadata": {},
   "outputs": [],
   "source": [
    "import warnings\n",
    "warnings.simplefilter('ignore')"
   ]
  },
  {
   "cell_type": "code",
   "execution_count": 55,
   "id": "a29b910c",
   "metadata": {},
   "outputs": [],
   "source": [
    "import numpy as np\n",
    "import pandas as pd\n",
    "import warnings\n",
    "from pandas_profiling import ProfileReport\n",
    "from fast_ml.feature_selection import get_constant_features\n",
    "import seaborn as sns\n",
    "import matplotlib.pyplot as plt\n",
    "from lazypredict.Supervised import LazyRegressor\n",
    "from sklearn.feature_selection import mutual_info_regression\n",
    "from sklearn.ensemble import ExtraTreesRegressor, RandomForestRegressor\n",
    "import lightgbm\n",
    "from statsmodels.stats.outliers_influence import variance_inflation_factor\n",
    "from sklearn.preprocessing import StandardScaler\n",
    "from sklearn.datasets import load_boston\n",
    "from sklearn.model_selection import train_test_split, KFold, RandomizedSearchCV, cross_val_score\n",
    "from sklearn.metrics import mean_absolute_error, mean_squared_error, r2_score\n",
    "import pickle\n",
    "\n",
    "\n",
    "warnings.simplefilter('ignore')\n",
    "%matplotlib inline"
   ]
  },
  {
   "cell_type": "code",
   "execution_count": 46,
   "id": "6083fcca",
   "metadata": {},
   "outputs": [
    {
     "data": {
      "text/html": [
       "<div>\n",
       "<style scoped>\n",
       "    .dataframe tbody tr th:only-of-type {\n",
       "        vertical-align: middle;\n",
       "    }\n",
       "\n",
       "    .dataframe tbody tr th {\n",
       "        vertical-align: top;\n",
       "    }\n",
       "\n",
       "    .dataframe thead th {\n",
       "        text-align: right;\n",
       "    }\n",
       "</style>\n",
       "<table border=\"1\" class=\"dataframe\">\n",
       "  <thead>\n",
       "    <tr style=\"text-align: right;\">\n",
       "      <th></th>\n",
       "      <th>CRIM</th>\n",
       "      <th>ZN</th>\n",
       "      <th>INDUS</th>\n",
       "      <th>CHAS</th>\n",
       "      <th>NOX</th>\n",
       "      <th>RM</th>\n",
       "      <th>AGE</th>\n",
       "      <th>DIS</th>\n",
       "      <th>RAD</th>\n",
       "      <th>TAX</th>\n",
       "      <th>PTRATIO</th>\n",
       "      <th>B</th>\n",
       "      <th>LSTAT</th>\n",
       "      <th>MEDV</th>\n",
       "    </tr>\n",
       "  </thead>\n",
       "  <tbody>\n",
       "    <tr>\n",
       "      <th>0</th>\n",
       "      <td>0.01</td>\n",
       "      <td>18.00</td>\n",
       "      <td>2.31</td>\n",
       "      <td>0.00</td>\n",
       "      <td>0.54</td>\n",
       "      <td>6.58</td>\n",
       "      <td>65.20</td>\n",
       "      <td>4.09</td>\n",
       "      <td>1</td>\n",
       "      <td>296</td>\n",
       "      <td>15.30</td>\n",
       "      <td>396.90</td>\n",
       "      <td>4.98</td>\n",
       "      <td>24.00</td>\n",
       "    </tr>\n",
       "    <tr>\n",
       "      <th>1</th>\n",
       "      <td>0.03</td>\n",
       "      <td>0.00</td>\n",
       "      <td>7.07</td>\n",
       "      <td>0.00</td>\n",
       "      <td>0.47</td>\n",
       "      <td>6.42</td>\n",
       "      <td>78.90</td>\n",
       "      <td>4.97</td>\n",
       "      <td>2</td>\n",
       "      <td>242</td>\n",
       "      <td>17.80</td>\n",
       "      <td>396.90</td>\n",
       "      <td>9.14</td>\n",
       "      <td>21.60</td>\n",
       "    </tr>\n",
       "    <tr>\n",
       "      <th>2</th>\n",
       "      <td>0.03</td>\n",
       "      <td>0.00</td>\n",
       "      <td>7.07</td>\n",
       "      <td>0.00</td>\n",
       "      <td>0.47</td>\n",
       "      <td>7.18</td>\n",
       "      <td>61.10</td>\n",
       "      <td>4.97</td>\n",
       "      <td>2</td>\n",
       "      <td>242</td>\n",
       "      <td>17.80</td>\n",
       "      <td>392.83</td>\n",
       "      <td>4.03</td>\n",
       "      <td>34.70</td>\n",
       "    </tr>\n",
       "    <tr>\n",
       "      <th>3</th>\n",
       "      <td>0.03</td>\n",
       "      <td>0.00</td>\n",
       "      <td>2.18</td>\n",
       "      <td>0.00</td>\n",
       "      <td>0.46</td>\n",
       "      <td>7.00</td>\n",
       "      <td>45.80</td>\n",
       "      <td>6.06</td>\n",
       "      <td>3</td>\n",
       "      <td>222</td>\n",
       "      <td>18.70</td>\n",
       "      <td>394.63</td>\n",
       "      <td>2.94</td>\n",
       "      <td>33.40</td>\n",
       "    </tr>\n",
       "    <tr>\n",
       "      <th>4</th>\n",
       "      <td>0.07</td>\n",
       "      <td>0.00</td>\n",
       "      <td>2.18</td>\n",
       "      <td>0.00</td>\n",
       "      <td>0.46</td>\n",
       "      <td>7.15</td>\n",
       "      <td>54.20</td>\n",
       "      <td>6.06</td>\n",
       "      <td>3</td>\n",
       "      <td>222</td>\n",
       "      <td>18.70</td>\n",
       "      <td>396.90</td>\n",
       "      <td>NaN</td>\n",
       "      <td>36.20</td>\n",
       "    </tr>\n",
       "    <tr>\n",
       "      <th>...</th>\n",
       "      <td>...</td>\n",
       "      <td>...</td>\n",
       "      <td>...</td>\n",
       "      <td>...</td>\n",
       "      <td>...</td>\n",
       "      <td>...</td>\n",
       "      <td>...</td>\n",
       "      <td>...</td>\n",
       "      <td>...</td>\n",
       "      <td>...</td>\n",
       "      <td>...</td>\n",
       "      <td>...</td>\n",
       "      <td>...</td>\n",
       "      <td>...</td>\n",
       "    </tr>\n",
       "    <tr>\n",
       "      <th>501</th>\n",
       "      <td>0.06</td>\n",
       "      <td>0.00</td>\n",
       "      <td>11.93</td>\n",
       "      <td>0.00</td>\n",
       "      <td>0.57</td>\n",
       "      <td>6.59</td>\n",
       "      <td>69.10</td>\n",
       "      <td>2.48</td>\n",
       "      <td>1</td>\n",
       "      <td>273</td>\n",
       "      <td>21.00</td>\n",
       "      <td>391.99</td>\n",
       "      <td>NaN</td>\n",
       "      <td>22.40</td>\n",
       "    </tr>\n",
       "    <tr>\n",
       "      <th>502</th>\n",
       "      <td>0.05</td>\n",
       "      <td>0.00</td>\n",
       "      <td>11.93</td>\n",
       "      <td>0.00</td>\n",
       "      <td>0.57</td>\n",
       "      <td>6.12</td>\n",
       "      <td>76.70</td>\n",
       "      <td>2.29</td>\n",
       "      <td>1</td>\n",
       "      <td>273</td>\n",
       "      <td>21.00</td>\n",
       "      <td>396.90</td>\n",
       "      <td>9.08</td>\n",
       "      <td>20.60</td>\n",
       "    </tr>\n",
       "    <tr>\n",
       "      <th>503</th>\n",
       "      <td>0.06</td>\n",
       "      <td>0.00</td>\n",
       "      <td>11.93</td>\n",
       "      <td>0.00</td>\n",
       "      <td>0.57</td>\n",
       "      <td>6.98</td>\n",
       "      <td>91.00</td>\n",
       "      <td>2.17</td>\n",
       "      <td>1</td>\n",
       "      <td>273</td>\n",
       "      <td>21.00</td>\n",
       "      <td>396.90</td>\n",
       "      <td>5.64</td>\n",
       "      <td>23.90</td>\n",
       "    </tr>\n",
       "    <tr>\n",
       "      <th>504</th>\n",
       "      <td>0.11</td>\n",
       "      <td>0.00</td>\n",
       "      <td>11.93</td>\n",
       "      <td>0.00</td>\n",
       "      <td>0.57</td>\n",
       "      <td>6.79</td>\n",
       "      <td>89.30</td>\n",
       "      <td>2.39</td>\n",
       "      <td>1</td>\n",
       "      <td>273</td>\n",
       "      <td>21.00</td>\n",
       "      <td>393.45</td>\n",
       "      <td>6.48</td>\n",
       "      <td>22.00</td>\n",
       "    </tr>\n",
       "    <tr>\n",
       "      <th>505</th>\n",
       "      <td>0.05</td>\n",
       "      <td>0.00</td>\n",
       "      <td>11.93</td>\n",
       "      <td>0.00</td>\n",
       "      <td>0.57</td>\n",
       "      <td>6.03</td>\n",
       "      <td>NaN</td>\n",
       "      <td>2.50</td>\n",
       "      <td>1</td>\n",
       "      <td>273</td>\n",
       "      <td>21.00</td>\n",
       "      <td>396.90</td>\n",
       "      <td>7.88</td>\n",
       "      <td>11.90</td>\n",
       "    </tr>\n",
       "  </tbody>\n",
       "</table>\n",
       "<p>506 rows × 14 columns</p>\n",
       "</div>"
      ],
      "text/plain": [
       "     CRIM    ZN  INDUS  CHAS  NOX   RM   AGE  DIS  RAD  TAX  PTRATIO      B  \\\n",
       "0    0.01 18.00   2.31  0.00 0.54 6.58 65.20 4.09    1  296    15.30 396.90   \n",
       "1    0.03  0.00   7.07  0.00 0.47 6.42 78.90 4.97    2  242    17.80 396.90   \n",
       "2    0.03  0.00   7.07  0.00 0.47 7.18 61.10 4.97    2  242    17.80 392.83   \n",
       "3    0.03  0.00   2.18  0.00 0.46 7.00 45.80 6.06    3  222    18.70 394.63   \n",
       "4    0.07  0.00   2.18  0.00 0.46 7.15 54.20 6.06    3  222    18.70 396.90   \n",
       "..    ...   ...    ...   ...  ...  ...   ...  ...  ...  ...      ...    ...   \n",
       "501  0.06  0.00  11.93  0.00 0.57 6.59 69.10 2.48    1  273    21.00 391.99   \n",
       "502  0.05  0.00  11.93  0.00 0.57 6.12 76.70 2.29    1  273    21.00 396.90   \n",
       "503  0.06  0.00  11.93  0.00 0.57 6.98 91.00 2.17    1  273    21.00 396.90   \n",
       "504  0.11  0.00  11.93  0.00 0.57 6.79 89.30 2.39    1  273    21.00 393.45   \n",
       "505  0.05  0.00  11.93  0.00 0.57 6.03   NaN 2.50    1  273    21.00 396.90   \n",
       "\n",
       "     LSTAT  MEDV  \n",
       "0     4.98 24.00  \n",
       "1     9.14 21.60  \n",
       "2     4.03 34.70  \n",
       "3     2.94 33.40  \n",
       "4      NaN 36.20  \n",
       "..     ...   ...  \n",
       "501    NaN 22.40  \n",
       "502   9.08 20.60  \n",
       "503   5.64 23.90  \n",
       "504   6.48 22.00  \n",
       "505   7.88 11.90  \n",
       "\n",
       "[506 rows x 14 columns]"
      ]
     },
     "execution_count": 46,
     "metadata": {},
     "output_type": "execute_result"
    }
   ],
   "source": [
    "df = pd.read_csv('HousingData.csv')\n",
    "df"
   ]
  },
  {
   "cell_type": "raw",
   "id": "515ffbfb",
   "metadata": {},
   "source": [
    "Attribute Information (in order):\n",
    "        - CRIM     per capita crime rate by town\n",
    "        - ZN       proportion of residential land zoned for lots over 25,000 sq.ft.\n",
    "        - INDUS    proportion of non-retail business acres per town\n",
    "        - CHAS     Charles River dummy variable (= 1 if tract bounds river; 0 otherwise)\n",
    "        - NOX      nitric oxides concentration (parts per 10 million)\n",
    "        - RM       average number of rooms per dwelling\n",
    "        - AGE      proportion of owner-occupied units built prior to 1940\n",
    "        - DIS      weighted distances to five Boston employment centres\n",
    "        - RAD      index of accessibility to radial highways\n",
    "        - TAX      full-value property-tax rate per $10,000\n",
    "        - PTRATIO  pupil-teacher ratio by town\n",
    "        - B        1000(Bk - 0.63)^2 where Bk is the proportion of blacks by town\n",
    "        - LSTAT    % lower status of the population\n",
    "        - MEDV     Median value of owner-occupied homes in $1000's"
   ]
  },
  {
   "cell_type": "code",
   "execution_count": 47,
   "id": "2ac1a4af",
   "metadata": {},
   "outputs": [
    {
     "data": {
      "text/html": [
       "<div>\n",
       "<style scoped>\n",
       "    .dataframe tbody tr th:only-of-type {\n",
       "        vertical-align: middle;\n",
       "    }\n",
       "\n",
       "    .dataframe tbody tr th {\n",
       "        vertical-align: top;\n",
       "    }\n",
       "\n",
       "    .dataframe thead th {\n",
       "        text-align: right;\n",
       "    }\n",
       "</style>\n",
       "<table border=\"1\" class=\"dataframe\">\n",
       "  <thead>\n",
       "    <tr style=\"text-align: right;\">\n",
       "      <th></th>\n",
       "      <th>CRIM</th>\n",
       "      <th>ZN</th>\n",
       "      <th>INDUS</th>\n",
       "      <th>CHAS</th>\n",
       "      <th>NOX</th>\n",
       "      <th>RM</th>\n",
       "      <th>AGE</th>\n",
       "      <th>DIS</th>\n",
       "      <th>RAD</th>\n",
       "      <th>TAX</th>\n",
       "      <th>PTRATIO</th>\n",
       "      <th>B</th>\n",
       "      <th>LSTAT</th>\n",
       "      <th>Price</th>\n",
       "    </tr>\n",
       "  </thead>\n",
       "  <tbody>\n",
       "    <tr>\n",
       "      <th>0</th>\n",
       "      <td>0.01</td>\n",
       "      <td>18.00</td>\n",
       "      <td>2.31</td>\n",
       "      <td>0.00</td>\n",
       "      <td>0.54</td>\n",
       "      <td>6.58</td>\n",
       "      <td>65.20</td>\n",
       "      <td>4.09</td>\n",
       "      <td>1</td>\n",
       "      <td>296</td>\n",
       "      <td>15.30</td>\n",
       "      <td>396.90</td>\n",
       "      <td>4.98</td>\n",
       "      <td>24.00</td>\n",
       "    </tr>\n",
       "    <tr>\n",
       "      <th>1</th>\n",
       "      <td>0.03</td>\n",
       "      <td>0.00</td>\n",
       "      <td>7.07</td>\n",
       "      <td>0.00</td>\n",
       "      <td>0.47</td>\n",
       "      <td>6.42</td>\n",
       "      <td>78.90</td>\n",
       "      <td>4.97</td>\n",
       "      <td>2</td>\n",
       "      <td>242</td>\n",
       "      <td>17.80</td>\n",
       "      <td>396.90</td>\n",
       "      <td>9.14</td>\n",
       "      <td>21.60</td>\n",
       "    </tr>\n",
       "    <tr>\n",
       "      <th>2</th>\n",
       "      <td>0.03</td>\n",
       "      <td>0.00</td>\n",
       "      <td>7.07</td>\n",
       "      <td>0.00</td>\n",
       "      <td>0.47</td>\n",
       "      <td>7.18</td>\n",
       "      <td>61.10</td>\n",
       "      <td>4.97</td>\n",
       "      <td>2</td>\n",
       "      <td>242</td>\n",
       "      <td>17.80</td>\n",
       "      <td>392.83</td>\n",
       "      <td>4.03</td>\n",
       "      <td>34.70</td>\n",
       "    </tr>\n",
       "    <tr>\n",
       "      <th>3</th>\n",
       "      <td>0.03</td>\n",
       "      <td>0.00</td>\n",
       "      <td>2.18</td>\n",
       "      <td>0.00</td>\n",
       "      <td>0.46</td>\n",
       "      <td>7.00</td>\n",
       "      <td>45.80</td>\n",
       "      <td>6.06</td>\n",
       "      <td>3</td>\n",
       "      <td>222</td>\n",
       "      <td>18.70</td>\n",
       "      <td>394.63</td>\n",
       "      <td>2.94</td>\n",
       "      <td>33.40</td>\n",
       "    </tr>\n",
       "    <tr>\n",
       "      <th>4</th>\n",
       "      <td>0.07</td>\n",
       "      <td>0.00</td>\n",
       "      <td>2.18</td>\n",
       "      <td>0.00</td>\n",
       "      <td>0.46</td>\n",
       "      <td>7.15</td>\n",
       "      <td>54.20</td>\n",
       "      <td>6.06</td>\n",
       "      <td>3</td>\n",
       "      <td>222</td>\n",
       "      <td>18.70</td>\n",
       "      <td>396.90</td>\n",
       "      <td>NaN</td>\n",
       "      <td>36.20</td>\n",
       "    </tr>\n",
       "    <tr>\n",
       "      <th>...</th>\n",
       "      <td>...</td>\n",
       "      <td>...</td>\n",
       "      <td>...</td>\n",
       "      <td>...</td>\n",
       "      <td>...</td>\n",
       "      <td>...</td>\n",
       "      <td>...</td>\n",
       "      <td>...</td>\n",
       "      <td>...</td>\n",
       "      <td>...</td>\n",
       "      <td>...</td>\n",
       "      <td>...</td>\n",
       "      <td>...</td>\n",
       "      <td>...</td>\n",
       "    </tr>\n",
       "    <tr>\n",
       "      <th>501</th>\n",
       "      <td>0.06</td>\n",
       "      <td>0.00</td>\n",
       "      <td>11.93</td>\n",
       "      <td>0.00</td>\n",
       "      <td>0.57</td>\n",
       "      <td>6.59</td>\n",
       "      <td>69.10</td>\n",
       "      <td>2.48</td>\n",
       "      <td>1</td>\n",
       "      <td>273</td>\n",
       "      <td>21.00</td>\n",
       "      <td>391.99</td>\n",
       "      <td>NaN</td>\n",
       "      <td>22.40</td>\n",
       "    </tr>\n",
       "    <tr>\n",
       "      <th>502</th>\n",
       "      <td>0.05</td>\n",
       "      <td>0.00</td>\n",
       "      <td>11.93</td>\n",
       "      <td>0.00</td>\n",
       "      <td>0.57</td>\n",
       "      <td>6.12</td>\n",
       "      <td>76.70</td>\n",
       "      <td>2.29</td>\n",
       "      <td>1</td>\n",
       "      <td>273</td>\n",
       "      <td>21.00</td>\n",
       "      <td>396.90</td>\n",
       "      <td>9.08</td>\n",
       "      <td>20.60</td>\n",
       "    </tr>\n",
       "    <tr>\n",
       "      <th>503</th>\n",
       "      <td>0.06</td>\n",
       "      <td>0.00</td>\n",
       "      <td>11.93</td>\n",
       "      <td>0.00</td>\n",
       "      <td>0.57</td>\n",
       "      <td>6.98</td>\n",
       "      <td>91.00</td>\n",
       "      <td>2.17</td>\n",
       "      <td>1</td>\n",
       "      <td>273</td>\n",
       "      <td>21.00</td>\n",
       "      <td>396.90</td>\n",
       "      <td>5.64</td>\n",
       "      <td>23.90</td>\n",
       "    </tr>\n",
       "    <tr>\n",
       "      <th>504</th>\n",
       "      <td>0.11</td>\n",
       "      <td>0.00</td>\n",
       "      <td>11.93</td>\n",
       "      <td>0.00</td>\n",
       "      <td>0.57</td>\n",
       "      <td>6.79</td>\n",
       "      <td>89.30</td>\n",
       "      <td>2.39</td>\n",
       "      <td>1</td>\n",
       "      <td>273</td>\n",
       "      <td>21.00</td>\n",
       "      <td>393.45</td>\n",
       "      <td>6.48</td>\n",
       "      <td>22.00</td>\n",
       "    </tr>\n",
       "    <tr>\n",
       "      <th>505</th>\n",
       "      <td>0.05</td>\n",
       "      <td>0.00</td>\n",
       "      <td>11.93</td>\n",
       "      <td>0.00</td>\n",
       "      <td>0.57</td>\n",
       "      <td>6.03</td>\n",
       "      <td>NaN</td>\n",
       "      <td>2.50</td>\n",
       "      <td>1</td>\n",
       "      <td>273</td>\n",
       "      <td>21.00</td>\n",
       "      <td>396.90</td>\n",
       "      <td>7.88</td>\n",
       "      <td>11.90</td>\n",
       "    </tr>\n",
       "  </tbody>\n",
       "</table>\n",
       "<p>506 rows × 14 columns</p>\n",
       "</div>"
      ],
      "text/plain": [
       "     CRIM    ZN  INDUS  CHAS  NOX   RM   AGE  DIS  RAD  TAX  PTRATIO      B  \\\n",
       "0    0.01 18.00   2.31  0.00 0.54 6.58 65.20 4.09    1  296    15.30 396.90   \n",
       "1    0.03  0.00   7.07  0.00 0.47 6.42 78.90 4.97    2  242    17.80 396.90   \n",
       "2    0.03  0.00   7.07  0.00 0.47 7.18 61.10 4.97    2  242    17.80 392.83   \n",
       "3    0.03  0.00   2.18  0.00 0.46 7.00 45.80 6.06    3  222    18.70 394.63   \n",
       "4    0.07  0.00   2.18  0.00 0.46 7.15 54.20 6.06    3  222    18.70 396.90   \n",
       "..    ...   ...    ...   ...  ...  ...   ...  ...  ...  ...      ...    ...   \n",
       "501  0.06  0.00  11.93  0.00 0.57 6.59 69.10 2.48    1  273    21.00 391.99   \n",
       "502  0.05  0.00  11.93  0.00 0.57 6.12 76.70 2.29    1  273    21.00 396.90   \n",
       "503  0.06  0.00  11.93  0.00 0.57 6.98 91.00 2.17    1  273    21.00 396.90   \n",
       "504  0.11  0.00  11.93  0.00 0.57 6.79 89.30 2.39    1  273    21.00 393.45   \n",
       "505  0.05  0.00  11.93  0.00 0.57 6.03   NaN 2.50    1  273    21.00 396.90   \n",
       "\n",
       "     LSTAT  Price  \n",
       "0     4.98  24.00  \n",
       "1     9.14  21.60  \n",
       "2     4.03  34.70  \n",
       "3     2.94  33.40  \n",
       "4      NaN  36.20  \n",
       "..     ...    ...  \n",
       "501    NaN  22.40  \n",
       "502   9.08  20.60  \n",
       "503   5.64  23.90  \n",
       "504   6.48  22.00  \n",
       "505   7.88  11.90  \n",
       "\n",
       "[506 rows x 14 columns]"
      ]
     },
     "execution_count": 47,
     "metadata": {},
     "output_type": "execute_result"
    }
   ],
   "source": [
    "df.rename(columns = {'MEDV':'Price'}, inplace = True)\n",
    "df"
   ]
  },
  {
   "cell_type": "code",
   "execution_count": 5,
   "id": "63a5369d",
   "metadata": {},
   "outputs": [
    {
     "data": {
      "application/vnd.jupyter.widget-view+json": {
       "model_id": "10b92e9ee2ac484288d7a4cdae96ea1e",
       "version_major": 2,
       "version_minor": 0
      },
      "text/plain": [
       "Summarize dataset:   0%|          | 0/28 [00:00<?, ?it/s]"
      ]
     },
     "metadata": {},
     "output_type": "display_data"
    },
    {
     "data": {
      "application/vnd.jupyter.widget-view+json": {
       "model_id": "c9a88772ac4140b1b18e81a80494b8a3",
       "version_major": 2,
       "version_minor": 0
      },
      "text/plain": [
       "Generate report structure:   0%|          | 0/1 [00:00<?, ?it/s]"
      ]
     },
     "metadata": {},
     "output_type": "display_data"
    },
    {
     "data": {
      "application/vnd.jupyter.widget-view+json": {
       "model_id": "fa55f1be33924f558bdd196f667e284c",
       "version_major": 2,
       "version_minor": 0
      },
      "text/plain": [
       "Render HTML:   0%|          | 0/1 [00:00<?, ?it/s]"
      ]
     },
     "metadata": {},
     "output_type": "display_data"
    },
    {
     "data": {
      "application/vnd.jupyter.widget-view+json": {
       "model_id": "1b10f07730f14e778ac9b852be334009",
       "version_major": 2,
       "version_minor": 0
      },
      "text/plain": [
       "Export report to file:   0%|          | 0/1 [00:00<?, ?it/s]"
      ]
     },
     "metadata": {},
     "output_type": "display_data"
    }
   ],
   "source": [
    "profile = ProfileReport(df) \n",
    "profile.to_file('profile.html')"
   ]
  },
  {
   "cell_type": "raw",
   "id": "f55abd76",
   "metadata": {},
   "source": [
    "CRIM\n",
    "1. Missing values\n",
    "2. Possibility of outliers [because skewed]\n",
    "\n",
    "ZN\n",
    "1. Missing values\n",
    "2. Zeroes present\n",
    "3. Possibility of outliers [because skewed]\n",
    "\n",
    "CHAS\n",
    "1. Missing values\n",
    "\n",
    "NOX\n",
    "1. Distribution not normal - possibility of outliers, if any\n",
    "\n",
    "RM - None\n",
    "\n",
    "AGE\n",
    "1. Missing values\n",
    "2. Left-skewed distribution\n",
    "\n",
    "DIS\n",
    "1. Right-skewed distribution\n",
    "\n",
    "RAD highly correlated with TAX\n",
    "\n",
    "PTRATIO - skewed\n",
    "\n",
    "B - skewed\n",
    "\n",
    "LSTAT \n",
    "1. Missing values\n",
    "2. Possibility of outliers [because skewed]\n",
    "\n",
    "PRICE - skewed"
   ]
  },
  {
   "cell_type": "markdown",
   "id": "10d8a192",
   "metadata": {},
   "source": [
    "## Handling Missing Values"
   ]
  },
  {
   "cell_type": "code",
   "execution_count": 48,
   "id": "8262c570",
   "metadata": {},
   "outputs": [],
   "source": [
    "df['CRIM'] = df['CRIM'].fillna(df['CRIM'].median())\n",
    "df['ZN'] = df['ZN'].fillna(df['ZN'].median())\n",
    "df['INDUS'] = df['INDUS'].fillna(df['INDUS'].median())\n",
    "df['CHAS'] = df['CHAS'].fillna(df['CHAS'].median())\n",
    "df['AGE'] = df['AGE'].fillna(df['AGE'].median())\n",
    "df['LSTAT'] = df['LSTAT'].fillna(df['LSTAT'].median())"
   ]
  },
  {
   "cell_type": "code",
   "execution_count": 15,
   "id": "1359f19c",
   "metadata": {},
   "outputs": [
    {
     "data": {
      "text/plain": [
       "0.253715"
      ]
     },
     "execution_count": 15,
     "metadata": {},
     "output_type": "execute_result"
    }
   ],
   "source": [
    "df['CRIM'].median()"
   ]
  },
  {
   "cell_type": "code",
   "execution_count": 49,
   "id": "f9bef3fd",
   "metadata": {},
   "outputs": [
    {
     "data": {
      "text/plain": [
       "CRIM       0\n",
       "ZN         0\n",
       "INDUS      0\n",
       "CHAS       0\n",
       "NOX        0\n",
       "RM         0\n",
       "AGE        0\n",
       "DIS        0\n",
       "RAD        0\n",
       "TAX        0\n",
       "PTRATIO    0\n",
       "B          0\n",
       "LSTAT      0\n",
       "Price      0\n",
       "dtype: int64"
      ]
     },
     "execution_count": 49,
     "metadata": {},
     "output_type": "execute_result"
    }
   ],
   "source": [
    "df.isna().sum()"
   ]
  },
  {
   "cell_type": "markdown",
   "id": "7da72fb6",
   "metadata": {},
   "source": [
    "# Checking for duplicate rows and columns"
   ]
  },
  {
   "cell_type": "code",
   "execution_count": 6,
   "id": "69bb69dc",
   "metadata": {},
   "outputs": [
    {
     "data": {
      "text/plain": [
       "0"
      ]
     },
     "execution_count": 6,
     "metadata": {},
     "output_type": "execute_result"
    }
   ],
   "source": [
    "df.duplicated().sum() #obvious from profile report"
   ]
  },
  {
   "cell_type": "code",
   "execution_count": 7,
   "id": "51f84bf4",
   "metadata": {},
   "outputs": [
    {
     "data": {
      "text/plain": [
       "0"
      ]
     },
     "execution_count": 7,
     "metadata": {},
     "output_type": "execute_result"
    }
   ],
   "source": [
    "df.T.duplicated().sum() #obvious from profile report"
   ]
  },
  {
   "cell_type": "markdown",
   "id": "db014885",
   "metadata": {},
   "source": [
    "# Checking constant and Quasi-Constant features\n",
    "\n",
    "#### Constant -  only one value in the feature\n",
    "#### Quasi-Constant - same value for a great majority in feature"
   ]
  },
  {
   "cell_type": "code",
   "execution_count": 8,
   "id": "d234c002",
   "metadata": {},
   "outputs": [
    {
     "data": {
      "text/html": [
       "<div>\n",
       "<style scoped>\n",
       "    .dataframe tbody tr th:only-of-type {\n",
       "        vertical-align: middle;\n",
       "    }\n",
       "\n",
       "    .dataframe tbody tr th {\n",
       "        vertical-align: top;\n",
       "    }\n",
       "\n",
       "    .dataframe thead th {\n",
       "        text-align: right;\n",
       "    }\n",
       "</style>\n",
       "<table border=\"1\" class=\"dataframe\">\n",
       "  <thead>\n",
       "    <tr style=\"text-align: right;\">\n",
       "      <th></th>\n",
       "      <th>Desc</th>\n",
       "      <th>Var</th>\n",
       "      <th>Value</th>\n",
       "      <th>Perc</th>\n",
       "    </tr>\n",
       "  </thead>\n",
       "  <tbody>\n",
       "  </tbody>\n",
       "</table>\n",
       "</div>"
      ],
      "text/plain": [
       "Empty DataFrame\n",
       "Columns: [Desc, Var, Value, Perc]\n",
       "Index: []"
      ]
     },
     "execution_count": 8,
     "metadata": {},
     "output_type": "execute_result"
    }
   ],
   "source": [
    "get_constant_features(df)"
   ]
  },
  {
   "cell_type": "markdown",
   "id": "6f14de4b",
   "metadata": {},
   "source": [
    "# Handling Outliers\n",
    "\n",
    "### can remove outliers but this method will include median imputation"
   ]
  },
  {
   "cell_type": "code",
   "execution_count": 9,
   "id": "c6e7177c",
   "metadata": {},
   "outputs": [
    {
     "data": {
      "text/plain": [
       "Index(['CRIM', 'ZN', 'INDUS', 'CHAS', 'NOX', 'RM', 'AGE', 'DIS', 'RAD', 'TAX',\n",
       "       'PTRATIO', 'B', 'LSTAT', 'Price'],\n",
       "      dtype='object')"
      ]
     },
     "execution_count": 9,
     "metadata": {},
     "output_type": "execute_result"
    }
   ],
   "source": [
    "df.columns"
   ]
  },
  {
   "cell_type": "code",
   "execution_count": 32,
   "id": "c6451a1b",
   "metadata": {},
   "outputs": [
    {
     "data": {
      "text/html": [
       "<div>\n",
       "<style scoped>\n",
       "    .dataframe tbody tr th:only-of-type {\n",
       "        vertical-align: middle;\n",
       "    }\n",
       "\n",
       "    .dataframe tbody tr th {\n",
       "        vertical-align: top;\n",
       "    }\n",
       "\n",
       "    .dataframe thead th {\n",
       "        text-align: right;\n",
       "    }\n",
       "</style>\n",
       "<table border=\"1\" class=\"dataframe\">\n",
       "  <thead>\n",
       "    <tr style=\"text-align: right;\">\n",
       "      <th></th>\n",
       "      <th>CRIM</th>\n",
       "      <th>ZN</th>\n",
       "      <th>INDUS</th>\n",
       "      <th>CHAS</th>\n",
       "      <th>NOX</th>\n",
       "      <th>RM</th>\n",
       "      <th>AGE</th>\n",
       "      <th>DIS</th>\n",
       "      <th>RAD</th>\n",
       "      <th>TAX</th>\n",
       "      <th>PTRATIO</th>\n",
       "      <th>B</th>\n",
       "      <th>LSTAT</th>\n",
       "      <th>Price</th>\n",
       "    </tr>\n",
       "  </thead>\n",
       "  <tbody>\n",
       "    <tr>\n",
       "      <th>count</th>\n",
       "      <td>506.00</td>\n",
       "      <td>506.00</td>\n",
       "      <td>506.00</td>\n",
       "      <td>506.00</td>\n",
       "      <td>506.00</td>\n",
       "      <td>506.00</td>\n",
       "      <td>506.00</td>\n",
       "      <td>506.00</td>\n",
       "      <td>506.00</td>\n",
       "      <td>506.00</td>\n",
       "      <td>506.00</td>\n",
       "      <td>506.00</td>\n",
       "      <td>506.00</td>\n",
       "      <td>506.00</td>\n",
       "    </tr>\n",
       "    <tr>\n",
       "      <th>mean</th>\n",
       "      <td>3.48</td>\n",
       "      <td>10.77</td>\n",
       "      <td>11.03</td>\n",
       "      <td>0.07</td>\n",
       "      <td>0.55</td>\n",
       "      <td>6.28</td>\n",
       "      <td>68.85</td>\n",
       "      <td>3.80</td>\n",
       "      <td>9.55</td>\n",
       "      <td>408.24</td>\n",
       "      <td>18.46</td>\n",
       "      <td>356.67</td>\n",
       "      <td>12.66</td>\n",
       "      <td>22.53</td>\n",
       "    </tr>\n",
       "    <tr>\n",
       "      <th>std</th>\n",
       "      <td>8.57</td>\n",
       "      <td>23.03</td>\n",
       "      <td>6.70</td>\n",
       "      <td>0.25</td>\n",
       "      <td>0.12</td>\n",
       "      <td>0.70</td>\n",
       "      <td>27.49</td>\n",
       "      <td>2.11</td>\n",
       "      <td>8.71</td>\n",
       "      <td>168.54</td>\n",
       "      <td>2.16</td>\n",
       "      <td>91.29</td>\n",
       "      <td>7.02</td>\n",
       "      <td>9.20</td>\n",
       "    </tr>\n",
       "    <tr>\n",
       "      <th>min</th>\n",
       "      <td>0.01</td>\n",
       "      <td>0.00</td>\n",
       "      <td>0.46</td>\n",
       "      <td>0.00</td>\n",
       "      <td>0.39</td>\n",
       "      <td>3.56</td>\n",
       "      <td>2.90</td>\n",
       "      <td>1.13</td>\n",
       "      <td>1.00</td>\n",
       "      <td>187.00</td>\n",
       "      <td>12.60</td>\n",
       "      <td>0.32</td>\n",
       "      <td>1.73</td>\n",
       "      <td>5.00</td>\n",
       "    </tr>\n",
       "    <tr>\n",
       "      <th>25%</th>\n",
       "      <td>0.08</td>\n",
       "      <td>0.00</td>\n",
       "      <td>5.19</td>\n",
       "      <td>0.00</td>\n",
       "      <td>0.45</td>\n",
       "      <td>5.89</td>\n",
       "      <td>45.92</td>\n",
       "      <td>2.10</td>\n",
       "      <td>4.00</td>\n",
       "      <td>279.00</td>\n",
       "      <td>17.40</td>\n",
       "      <td>375.38</td>\n",
       "      <td>7.23</td>\n",
       "      <td>17.02</td>\n",
       "    </tr>\n",
       "    <tr>\n",
       "      <th>50%</th>\n",
       "      <td>0.25</td>\n",
       "      <td>0.00</td>\n",
       "      <td>9.69</td>\n",
       "      <td>0.00</td>\n",
       "      <td>0.54</td>\n",
       "      <td>6.21</td>\n",
       "      <td>76.80</td>\n",
       "      <td>3.21</td>\n",
       "      <td>5.00</td>\n",
       "      <td>330.00</td>\n",
       "      <td>19.05</td>\n",
       "      <td>391.44</td>\n",
       "      <td>11.43</td>\n",
       "      <td>21.20</td>\n",
       "    </tr>\n",
       "    <tr>\n",
       "      <th>75%</th>\n",
       "      <td>2.81</td>\n",
       "      <td>0.00</td>\n",
       "      <td>18.10</td>\n",
       "      <td>0.00</td>\n",
       "      <td>0.62</td>\n",
       "      <td>6.62</td>\n",
       "      <td>93.57</td>\n",
       "      <td>5.19</td>\n",
       "      <td>24.00</td>\n",
       "      <td>666.00</td>\n",
       "      <td>20.20</td>\n",
       "      <td>396.23</td>\n",
       "      <td>16.57</td>\n",
       "      <td>25.00</td>\n",
       "    </tr>\n",
       "    <tr>\n",
       "      <th>max</th>\n",
       "      <td>88.98</td>\n",
       "      <td>100.00</td>\n",
       "      <td>27.74</td>\n",
       "      <td>1.00</td>\n",
       "      <td>0.87</td>\n",
       "      <td>8.78</td>\n",
       "      <td>100.00</td>\n",
       "      <td>12.13</td>\n",
       "      <td>24.00</td>\n",
       "      <td>711.00</td>\n",
       "      <td>22.00</td>\n",
       "      <td>396.90</td>\n",
       "      <td>37.97</td>\n",
       "      <td>50.00</td>\n",
       "    </tr>\n",
       "  </tbody>\n",
       "</table>\n",
       "</div>"
      ],
      "text/plain": [
       "        CRIM     ZN  INDUS   CHAS    NOX     RM    AGE    DIS    RAD    TAX  \\\n",
       "count 506.00 506.00 506.00 506.00 506.00 506.00 506.00 506.00 506.00 506.00   \n",
       "mean    3.48  10.77  11.03   0.07   0.55   6.28  68.85   3.80   9.55 408.24   \n",
       "std     8.57  23.03   6.70   0.25   0.12   0.70  27.49   2.11   8.71 168.54   \n",
       "min     0.01   0.00   0.46   0.00   0.39   3.56   2.90   1.13   1.00 187.00   \n",
       "25%     0.08   0.00   5.19   0.00   0.45   5.89  45.92   2.10   4.00 279.00   \n",
       "50%     0.25   0.00   9.69   0.00   0.54   6.21  76.80   3.21   5.00 330.00   \n",
       "75%     2.81   0.00  18.10   0.00   0.62   6.62  93.57   5.19  24.00 666.00   \n",
       "max    88.98 100.00  27.74   1.00   0.87   8.78 100.00  12.13  24.00 711.00   \n",
       "\n",
       "       PTRATIO      B  LSTAT  Price  \n",
       "count   506.00 506.00 506.00 506.00  \n",
       "mean     18.46 356.67  12.66  22.53  \n",
       "std       2.16  91.29   7.02   9.20  \n",
       "min      12.60   0.32   1.73   5.00  \n",
       "25%      17.40 375.38   7.23  17.02  \n",
       "50%      19.05 391.44  11.43  21.20  \n",
       "75%      20.20 396.23  16.57  25.00  \n",
       "max      22.00 396.90  37.97  50.00  "
      ]
     },
     "execution_count": 32,
     "metadata": {},
     "output_type": "execute_result"
    }
   ],
   "source": [
    "df.describe()"
   ]
  },
  {
   "cell_type": "code",
   "execution_count": 35,
   "id": "51dd9fe2",
   "metadata": {},
   "outputs": [
    {
     "data": {
      "text/plain": [
       "array([ 18. ,   0. ,  12.5,  75. ,  21. ,  90. ,  85. , 100. ,  25. ,\n",
       "        17.5,  80. ,  28. ,  45. ,  60. ,  95. ,  82.5,  30. ,  22. ,\n",
       "        20. ,  40. ,  55. ,  52.5,  70. ,  34. ,  33. ,  35. ])"
      ]
     },
     "execution_count": 35,
     "metadata": {},
     "output_type": "execute_result"
    }
   ],
   "source": [
    "df['ZN'].unique()"
   ]
  },
  {
   "cell_type": "code",
   "execution_count": 37,
   "id": "236f2e0a",
   "metadata": {},
   "outputs": [],
   "source": [
    "dfc = df.copy()"
   ]
  },
  {
   "cell_type": "code",
   "execution_count": 52,
   "id": "3cd2fd78",
   "metadata": {},
   "outputs": [
    {
     "data": {
      "text/plain": [
       "<AxesSubplot:>"
      ]
     },
     "execution_count": 52,
     "metadata": {},
     "output_type": "execute_result"
    },
    {
     "data": {
      "image/png": "[encoded data removed]",
      "text/plain": [
       "<Figure size 500x500 with 1 Axes>"
      ]
     },
     "metadata": {},
     "output_type": "display_data"
    }
   ],
   "source": [
    "plt.subplots(figsize=(5,5))\n",
    "sns.boxplot(data = dfc['RM'], width = 0.5,fliersize = 3)"
   ]
  },
  {
   "cell_type": "code",
   "execution_count": 53,
   "id": "c29aa405",
   "metadata": {},
   "outputs": [
    {
     "data": {
      "text/plain": [
       "<AxesSubplot:>"
      ]
     },
     "execution_count": 53,
     "metadata": {},
     "output_type": "execute_result"
    },
    {
     "data": {
      "image/png": "[encoded data removed]",
      "text/plain": [
       "<Figure size 500x500 with 1 Axes>"
      ]
     },
     "metadata": {},
     "output_type": "display_data"
    }
   ],
   "source": [
    "plt.subplots(figsize=(5,5))\n",
    "sns.boxplot(data = df['RM'], width = 0.5,fliersize = 3)"
   ]
  },
  {
   "cell_type": "code",
   "execution_count": 11,
   "id": "ac501f21",
   "metadata": {},
   "outputs": [
    {
     "data": {
      "text/plain": [
       "30.617"
      ]
     },
     "execution_count": 11,
     "metadata": {},
     "output_type": "execute_result"
    }
   ],
   "source": [
    "df['LSTAT'].quantile(0.98)"
   ]
  },
  {
   "cell_type": "code",
   "execution_count": 50,
   "id": "cd86827e",
   "metadata": {},
   "outputs": [],
   "source": [
    "# for median imputation\n",
    "\n",
    "def impute(column,quant1, quant2): #quant1 for lower fence; quant2 for upper fence\n",
    "    if quant1 is 0.0:\n",
    "        # considering upper fence\n",
    "        quantile_value_ufence = column.quantile(quant2)\n",
    "        for val in column:\n",
    "            if val < quantile_value_ufence:\n",
    "                column.replace(val,column.median(), inplace=True)\n",
    "    \n",
    "    if quant2 is 0.0:\n",
    "        # considering lower fence\n",
    "        quantile_value_lfence = column.quantile(quant1)\n",
    "        for val in column:\n",
    "            if val > quantile_value_lfence:\n",
    "                column.replace(val,column.median(), inplace=True)\n",
    "                \n",
    "    else:\n",
    "        quantile_value_ufence = column.quantile(quant2)\n",
    "        quantile_value_lfence = column.quantile(quant1)\n",
    "        for val in column:\n",
    "            if val > quantile_value_ufence or val < quantile_value_lfence:\n",
    "                column.replace(val,column.median(), inplace=True)"
   ]
  },
  {
   "cell_type": "code",
   "execution_count": 51,
   "id": "4868b605",
   "metadata": {},
   "outputs": [],
   "source": [
    "impute(df['CRIM'],0.0,0.9) # upper\n",
    "\n",
    "impute(df['ZN'],0.0,0.87) # upper\n",
    "\n",
    "impute(df['RM'],0.015, 0.97) # lower and upper\n",
    "\n",
    "impute(df['DIS'],0.0,0.99) # upper\n",
    "\n",
    "impute(df['PTRATIO'],0.01,0.0) # lower\n",
    "\n",
    "impute(df['B'],0.16,0.0) #lower\n",
    "\n",
    "impute(df['LSTAT'],0.0,0.98) # upper"
   ]
  },
  {
   "cell_type": "markdown",
   "id": "cd6fd1fd",
   "metadata": {},
   "source": [
    "# FEATURE SELECTION"
   ]
  },
  {
   "cell_type": "code",
   "execution_count": 58,
   "id": "25bdebdc",
   "metadata": {},
   "outputs": [],
   "source": [
    "X = df.iloc[:,:-1]\n",
    "y = df.iloc[:,-1]"
   ]
  },
  {
   "cell_type": "markdown",
   "id": "edc913ad",
   "metadata": {},
   "source": [
    "### 1. Information Gain"
   ]
  },
  {
   "cell_type": "code",
   "execution_count": 15,
   "id": "ad8e62bc",
   "metadata": {},
   "outputs": [
    {
     "data": {
      "text/plain": [
       "(506, 14)"
      ]
     },
     "execution_count": 15,
     "metadata": {},
     "output_type": "execute_result"
    }
   ],
   "source": [
    "df.shape"
   ]
  },
  {
   "cell_type": "code",
   "execution_count": 16,
   "id": "60156842",
   "metadata": {},
   "outputs": [],
   "source": [
    "importance = mutual_info_regression(X,y)"
   ]
  },
  {
   "cell_type": "code",
   "execution_count": 17,
   "id": "63341f11",
   "metadata": {},
   "outputs": [
    {
     "data": {
      "text/plain": [
       "LSTAT   0.60\n",
       "NOX     0.47\n",
       "RM      0.47\n",
       "INDUS   0.43\n",
       "TAX     0.35\n",
       "dtype: float64"
      ]
     },
     "execution_count": 17,
     "metadata": {},
     "output_type": "execute_result"
    }
   ],
   "source": [
    "sample_df = pd.Series(importance, index = X.columns)\n",
    "sample_df.nlargest(5)"
   ]
  },
  {
   "cell_type": "markdown",
   "id": "bd2bcb03",
   "metadata": {},
   "source": [
    "## Top 5 important features (according to information gain) are - \n",
    "\n",
    "1. LSTAT   \n",
    "2. RM      \n",
    "3. NOX     \n",
    "4. INDUS\n",
    "5. TAX "
   ]
  },
  {
   "cell_type": "markdown",
   "id": "f7a81762",
   "metadata": {},
   "source": [
    "### 2. ExtraTrees "
   ]
  },
  {
   "cell_type": "code",
   "execution_count": 18,
   "id": "5f982624",
   "metadata": {},
   "outputs": [
    {
     "data": {
      "text/plain": [
       "array([4.21454760e-02, 1.33660400e-02, 6.59574063e-02, 1.90429246e-02,\n",
       "       6.07866142e-02, 1.84134624e-01, 2.63606037e-02, 4.29548017e-02,\n",
       "       3.20124780e-02, 5.91697219e-02, 0.00000000e+00, 4.08182950e-04,\n",
       "       4.53661127e-01])"
      ]
     },
     "execution_count": 18,
     "metadata": {},
     "output_type": "execute_result"
    }
   ],
   "source": [
    "ext = ExtraTreesRegressor()\n",
    "ext.fit(X,y)\n",
    "ext.feature_importances_"
   ]
  },
  {
   "cell_type": "code",
   "execution_count": 19,
   "id": "644c0269",
   "metadata": {},
   "outputs": [
    {
     "data": {
      "text/plain": [
       "<AxesSubplot:>"
      ]
     },
     "execution_count": 19,
     "metadata": {},
     "output_type": "execute_result"
    },
    {
     "data": {
      "image/png": "[encoded data removed]",
      "text/plain": [
       "<Figure size 640x480 with 1 Axes>"
      ]
     },
     "metadata": {},
     "output_type": "display_data"
    }
   ],
   "source": [
    "rank = pd.Series(ext.feature_importances_, index=X.columns)\n",
    "rank.nlargest(10).plot(kind='barh')"
   ]
  },
  {
   "cell_type": "markdown",
   "id": "b1174ee3",
   "metadata": {},
   "source": [
    "## Top 5 important features (according to Extra trees Classifier) are - \n",
    "\n",
    "1. LSTAT   \n",
    "2. RM      \n",
    "3. NOX     \n",
    "4. TAX \n",
    "5. INDUS"
   ]
  },
  {
   "cell_type": "markdown",
   "id": "d4b0a710",
   "metadata": {},
   "source": [
    "# Checking regression plot for few correlated features (+ve and -ve)"
   ]
  },
  {
   "cell_type": "code",
   "execution_count": 20,
   "id": "dfbedcec",
   "metadata": {},
   "outputs": [
    {
     "data": {
      "text/plain": [
       "<AxesSubplot:xlabel='CRIM', ylabel='Price'>"
      ]
     },
     "execution_count": 20,
     "metadata": {},
     "output_type": "execute_result"
    },
    {
     "data": {
      "image/png": "[encoded data removed]",
      "text/plain": [
       "<Figure size 640x480 with 1 Axes>"
      ]
     },
     "metadata": {},
     "output_type": "display_data"
    }
   ],
   "source": [
    "sns.regplot(x =\"CRIM\",y=\"Price\",data=df) # -ve correlation"
   ]
  },
  {
   "cell_type": "code",
   "execution_count": 24,
   "id": "aa7707c6",
   "metadata": {},
   "outputs": [
    {
     "data": {
      "text/plain": [
       "<AxesSubplot:xlabel='RM', ylabel='Price'>"
      ]
     },
     "execution_count": 24,
     "metadata": {},
     "output_type": "execute_result"
    },
    {
     "data": {
      "image/png": "[encoded data removed]",
      "text/plain": [
       "<Figure size 640x480 with 1 Axes>"
      ]
     },
     "metadata": {},
     "output_type": "display_data"
    }
   ],
   "source": [
    "sns.regplot(x =\"RM\",y=\"Price\",data=df) # +ve correlation"
   ]
  },
  {
   "cell_type": "markdown",
   "id": "0f0f6738",
   "metadata": {},
   "source": [
    "## Checking multi-collinearity"
   ]
  },
  {
   "cell_type": "code",
   "execution_count": 21,
   "id": "85e69c2c",
   "metadata": {},
   "outputs": [],
   "source": [
    "VIF = pd.DataFrame()"
   ]
  },
  {
   "cell_type": "code",
   "execution_count": 22,
   "id": "81a15936",
   "metadata": {},
   "outputs": [],
   "source": [
    "Xcopy = X.copy()\n",
    "ycopy = y.copy()"
   ]
  },
  {
   "cell_type": "code",
   "execution_count": 23,
   "id": "75efbd59",
   "metadata": {},
   "outputs": [
    {
     "name": "stdout",
     "output_type": "stream",
     "text": [
      "(354, 13) (152, 13) (354,) (152,)\n"
     ]
    }
   ],
   "source": [
    "Xtrain, Xtest, ytrain, ytest = train_test_split(Xcopy,ycopy,test_size=0.3,random_state=42)\n",
    "print(Xtrain.shape, Xtest.shape, ytrain.shape, ytest.shape)"
   ]
  },
  {
   "cell_type": "code",
   "execution_count": 24,
   "id": "d9a92c29",
   "metadata": {},
   "outputs": [],
   "source": [
    "std = StandardScaler()\n",
    "\n",
    "Xtrain = std.fit_transform(Xtrain,ytrain)\n",
    "Xtest = std.transform(Xtest)"
   ]
  },
  {
   "cell_type": "code",
   "execution_count": 25,
   "id": "c06af15f",
   "metadata": {},
   "outputs": [],
   "source": [
    "VIF['vif'] = [variance_inflation_factor(Xtrain,i) for i in range(Xtrain.shape[1])]"
   ]
  },
  {
   "cell_type": "code",
   "execution_count": 26,
   "id": "95ed2aba",
   "metadata": {},
   "outputs": [],
   "source": [
    "VIF['columns'] = Xcopy.columns"
   ]
  },
  {
   "cell_type": "code",
   "execution_count": 27,
   "id": "d59f54c3",
   "metadata": {},
   "outputs": [
    {
     "data": {
      "text/html": [
       "<div>\n",
       "<style scoped>\n",
       "    .dataframe tbody tr th:only-of-type {\n",
       "        vertical-align: middle;\n",
       "    }\n",
       "\n",
       "    .dataframe tbody tr th {\n",
       "        vertical-align: top;\n",
       "    }\n",
       "\n",
       "    .dataframe thead th {\n",
       "        text-align: right;\n",
       "    }\n",
       "</style>\n",
       "<table border=\"1\" class=\"dataframe\">\n",
       "  <thead>\n",
       "    <tr style=\"text-align: right;\">\n",
       "      <th></th>\n",
       "      <th>vif</th>\n",
       "      <th>columns</th>\n",
       "    </tr>\n",
       "  </thead>\n",
       "  <tbody>\n",
       "    <tr>\n",
       "      <th>0</th>\n",
       "      <td>1.74</td>\n",
       "      <td>CRIM</td>\n",
       "    </tr>\n",
       "    <tr>\n",
       "      <th>1</th>\n",
       "      <td>1.27</td>\n",
       "      <td>ZN</td>\n",
       "    </tr>\n",
       "    <tr>\n",
       "      <th>2</th>\n",
       "      <td>3.28</td>\n",
       "      <td>INDUS</td>\n",
       "    </tr>\n",
       "    <tr>\n",
       "      <th>3</th>\n",
       "      <td>1.07</td>\n",
       "      <td>CHAS</td>\n",
       "    </tr>\n",
       "    <tr>\n",
       "      <th>4</th>\n",
       "      <td>4.25</td>\n",
       "      <td>NOX</td>\n",
       "    </tr>\n",
       "    <tr>\n",
       "      <th>5</th>\n",
       "      <td>1.44</td>\n",
       "      <td>RM</td>\n",
       "    </tr>\n",
       "    <tr>\n",
       "      <th>6</th>\n",
       "      <td>2.62</td>\n",
       "      <td>AGE</td>\n",
       "    </tr>\n",
       "    <tr>\n",
       "      <th>7</th>\n",
       "      <td>3.51</td>\n",
       "      <td>DIS</td>\n",
       "    </tr>\n",
       "    <tr>\n",
       "      <th>8</th>\n",
       "      <td>6.83</td>\n",
       "      <td>RAD</td>\n",
       "    </tr>\n",
       "    <tr>\n",
       "      <th>9</th>\n",
       "      <td>8.48</td>\n",
       "      <td>TAX</td>\n",
       "    </tr>\n",
       "    <tr>\n",
       "      <th>10</th>\n",
       "      <td>NaN</td>\n",
       "      <td>PTRATIO</td>\n",
       "    </tr>\n",
       "    <tr>\n",
       "      <th>11</th>\n",
       "      <td>1.02</td>\n",
       "      <td>B</td>\n",
       "    </tr>\n",
       "    <tr>\n",
       "      <th>12</th>\n",
       "      <td>1.92</td>\n",
       "      <td>LSTAT</td>\n",
       "    </tr>\n",
       "  </tbody>\n",
       "</table>\n",
       "</div>"
      ],
      "text/plain": [
       "    vif  columns\n",
       "0  1.74     CRIM\n",
       "1  1.27       ZN\n",
       "2  3.28    INDUS\n",
       "3  1.07     CHAS\n",
       "4  4.25      NOX\n",
       "5  1.44       RM\n",
       "6  2.62      AGE\n",
       "7  3.51      DIS\n",
       "8  6.83      RAD\n",
       "9  8.48      TAX\n",
       "10  NaN  PTRATIO\n",
       "11 1.02        B\n",
       "12 1.92    LSTAT"
      ]
     },
     "execution_count": 27,
     "metadata": {},
     "output_type": "execute_result"
    }
   ],
   "source": [
    "VIF"
   ]
  },
  {
   "cell_type": "markdown",
   "id": "e4a1bb9b",
   "metadata": {},
   "source": [
    "# Only RAD and TAX are above 5. Therefore, can drop any one 1 column. "
   ]
  },
  {
   "cell_type": "code",
   "execution_count": 28,
   "id": "3fcbd034",
   "metadata": {},
   "outputs": [],
   "source": [
    "X.drop(columns=['TAX'], inplace=True)"
   ]
  },
  {
   "cell_type": "code",
   "execution_count": 29,
   "id": "d6890526",
   "metadata": {},
   "outputs": [
    {
     "data": {
      "text/html": [
       "<div>\n",
       "<style scoped>\n",
       "    .dataframe tbody tr th:only-of-type {\n",
       "        vertical-align: middle;\n",
       "    }\n",
       "\n",
       "    .dataframe tbody tr th {\n",
       "        vertical-align: top;\n",
       "    }\n",
       "\n",
       "    .dataframe thead th {\n",
       "        text-align: right;\n",
       "    }\n",
       "</style>\n",
       "<table border=\"1\" class=\"dataframe\">\n",
       "  <thead>\n",
       "    <tr style=\"text-align: right;\">\n",
       "      <th></th>\n",
       "      <th>CRIM</th>\n",
       "      <th>ZN</th>\n",
       "      <th>INDUS</th>\n",
       "      <th>CHAS</th>\n",
       "      <th>NOX</th>\n",
       "      <th>RM</th>\n",
       "      <th>AGE</th>\n",
       "      <th>DIS</th>\n",
       "      <th>RAD</th>\n",
       "      <th>PTRATIO</th>\n",
       "      <th>B</th>\n",
       "      <th>LSTAT</th>\n",
       "    </tr>\n",
       "  </thead>\n",
       "  <tbody>\n",
       "    <tr>\n",
       "      <th>0</th>\n",
       "      <td>0.01</td>\n",
       "      <td>18.00</td>\n",
       "      <td>2.31</td>\n",
       "      <td>0.00</td>\n",
       "      <td>0.54</td>\n",
       "      <td>6.58</td>\n",
       "      <td>65.20</td>\n",
       "      <td>4.09</td>\n",
       "      <td>1</td>\n",
       "      <td>19.10</td>\n",
       "      <td>391.43</td>\n",
       "      <td>4.98</td>\n",
       "    </tr>\n",
       "    <tr>\n",
       "      <th>1</th>\n",
       "      <td>0.03</td>\n",
       "      <td>0.00</td>\n",
       "      <td>7.07</td>\n",
       "      <td>0.00</td>\n",
       "      <td>0.47</td>\n",
       "      <td>6.42</td>\n",
       "      <td>78.90</td>\n",
       "      <td>4.97</td>\n",
       "      <td>2</td>\n",
       "      <td>19.10</td>\n",
       "      <td>391.43</td>\n",
       "      <td>9.14</td>\n",
       "    </tr>\n",
       "    <tr>\n",
       "      <th>2</th>\n",
       "      <td>0.03</td>\n",
       "      <td>0.00</td>\n",
       "      <td>7.07</td>\n",
       "      <td>0.00</td>\n",
       "      <td>0.47</td>\n",
       "      <td>7.18</td>\n",
       "      <td>61.10</td>\n",
       "      <td>4.97</td>\n",
       "      <td>2</td>\n",
       "      <td>19.10</td>\n",
       "      <td>391.43</td>\n",
       "      <td>4.03</td>\n",
       "    </tr>\n",
       "    <tr>\n",
       "      <th>3</th>\n",
       "      <td>0.03</td>\n",
       "      <td>0.00</td>\n",
       "      <td>2.18</td>\n",
       "      <td>0.00</td>\n",
       "      <td>0.46</td>\n",
       "      <td>7.00</td>\n",
       "      <td>45.80</td>\n",
       "      <td>6.06</td>\n",
       "      <td>3</td>\n",
       "      <td>19.10</td>\n",
       "      <td>391.43</td>\n",
       "      <td>2.94</td>\n",
       "    </tr>\n",
       "    <tr>\n",
       "      <th>4</th>\n",
       "      <td>0.07</td>\n",
       "      <td>0.00</td>\n",
       "      <td>2.18</td>\n",
       "      <td>0.00</td>\n",
       "      <td>0.46</td>\n",
       "      <td>7.15</td>\n",
       "      <td>54.20</td>\n",
       "      <td>6.06</td>\n",
       "      <td>3</td>\n",
       "      <td>19.10</td>\n",
       "      <td>391.43</td>\n",
       "      <td>12.72</td>\n",
       "    </tr>\n",
       "    <tr>\n",
       "      <th>...</th>\n",
       "      <td>...</td>\n",
       "      <td>...</td>\n",
       "      <td>...</td>\n",
       "      <td>...</td>\n",
       "      <td>...</td>\n",
       "      <td>...</td>\n",
       "      <td>...</td>\n",
       "      <td>...</td>\n",
       "      <td>...</td>\n",
       "      <td>...</td>\n",
       "      <td>...</td>\n",
       "      <td>...</td>\n",
       "    </tr>\n",
       "    <tr>\n",
       "      <th>501</th>\n",
       "      <td>0.06</td>\n",
       "      <td>0.00</td>\n",
       "      <td>11.93</td>\n",
       "      <td>0.00</td>\n",
       "      <td>0.57</td>\n",
       "      <td>6.59</td>\n",
       "      <td>69.10</td>\n",
       "      <td>2.48</td>\n",
       "      <td>1</td>\n",
       "      <td>19.10</td>\n",
       "      <td>391.43</td>\n",
       "      <td>12.72</td>\n",
       "    </tr>\n",
       "    <tr>\n",
       "      <th>502</th>\n",
       "      <td>0.05</td>\n",
       "      <td>0.00</td>\n",
       "      <td>11.93</td>\n",
       "      <td>0.00</td>\n",
       "      <td>0.57</td>\n",
       "      <td>6.12</td>\n",
       "      <td>76.70</td>\n",
       "      <td>2.29</td>\n",
       "      <td>1</td>\n",
       "      <td>19.10</td>\n",
       "      <td>391.43</td>\n",
       "      <td>9.08</td>\n",
       "    </tr>\n",
       "    <tr>\n",
       "      <th>503</th>\n",
       "      <td>0.06</td>\n",
       "      <td>0.00</td>\n",
       "      <td>11.93</td>\n",
       "      <td>0.00</td>\n",
       "      <td>0.57</td>\n",
       "      <td>6.98</td>\n",
       "      <td>91.00</td>\n",
       "      <td>2.17</td>\n",
       "      <td>1</td>\n",
       "      <td>19.10</td>\n",
       "      <td>391.43</td>\n",
       "      <td>5.64</td>\n",
       "    </tr>\n",
       "    <tr>\n",
       "      <th>504</th>\n",
       "      <td>0.11</td>\n",
       "      <td>0.00</td>\n",
       "      <td>11.93</td>\n",
       "      <td>0.00</td>\n",
       "      <td>0.57</td>\n",
       "      <td>6.79</td>\n",
       "      <td>89.30</td>\n",
       "      <td>2.39</td>\n",
       "      <td>1</td>\n",
       "      <td>19.10</td>\n",
       "      <td>391.43</td>\n",
       "      <td>6.48</td>\n",
       "    </tr>\n",
       "    <tr>\n",
       "      <th>505</th>\n",
       "      <td>0.05</td>\n",
       "      <td>0.00</td>\n",
       "      <td>11.93</td>\n",
       "      <td>0.00</td>\n",
       "      <td>0.57</td>\n",
       "      <td>6.03</td>\n",
       "      <td>68.52</td>\n",
       "      <td>2.50</td>\n",
       "      <td>1</td>\n",
       "      <td>19.10</td>\n",
       "      <td>391.43</td>\n",
       "      <td>7.88</td>\n",
       "    </tr>\n",
       "  </tbody>\n",
       "</table>\n",
       "<p>506 rows × 12 columns</p>\n",
       "</div>"
      ],
      "text/plain": [
       "     CRIM    ZN  INDUS  CHAS  NOX   RM   AGE  DIS  RAD  PTRATIO      B  LSTAT\n",
       "0    0.01 18.00   2.31  0.00 0.54 6.58 65.20 4.09    1    19.10 391.43   4.98\n",
       "1    0.03  0.00   7.07  0.00 0.47 6.42 78.90 4.97    2    19.10 391.43   9.14\n",
       "2    0.03  0.00   7.07  0.00 0.47 7.18 61.10 4.97    2    19.10 391.43   4.03\n",
       "3    0.03  0.00   2.18  0.00 0.46 7.00 45.80 6.06    3    19.10 391.43   2.94\n",
       "4    0.07  0.00   2.18  0.00 0.46 7.15 54.20 6.06    3    19.10 391.43  12.72\n",
       "..    ...   ...    ...   ...  ...  ...   ...  ...  ...      ...    ...    ...\n",
       "501  0.06  0.00  11.93  0.00 0.57 6.59 69.10 2.48    1    19.10 391.43  12.72\n",
       "502  0.05  0.00  11.93  0.00 0.57 6.12 76.70 2.29    1    19.10 391.43   9.08\n",
       "503  0.06  0.00  11.93  0.00 0.57 6.98 91.00 2.17    1    19.10 391.43   5.64\n",
       "504  0.11  0.00  11.93  0.00 0.57 6.79 89.30 2.39    1    19.10 391.43   6.48\n",
       "505  0.05  0.00  11.93  0.00 0.57 6.03 68.52 2.50    1    19.10 391.43   7.88\n",
       "\n",
       "[506 rows x 12 columns]"
      ]
     },
     "execution_count": 29,
     "metadata": {},
     "output_type": "execute_result"
    }
   ],
   "source": [
    "X"
   ]
  },
  {
   "cell_type": "markdown",
   "id": "9a5b01b5",
   "metadata": {},
   "source": [
    "# MODEL BUILDING"
   ]
  },
  {
   "cell_type": "code",
   "execution_count": 59,
   "id": "574fd4bd",
   "metadata": {},
   "outputs": [],
   "source": [
    "Xtrain, Xtest, ytrain, ytest = train_test_split(X,y,train_size=0.75, random_state=42)"
   ]
  },
  {
   "cell_type": "code",
   "execution_count": 60,
   "id": "ff967c38",
   "metadata": {},
   "outputs": [
    {
     "name": "stdout",
     "output_type": "stream",
     "text": [
      "(379, 13) (127, 13) (379,) (127,)\n"
     ]
    }
   ],
   "source": [
    "print(Xtrain.shape, Xtest.shape, ytrain.shape, ytest.shape)"
   ]
  },
  {
   "cell_type": "code",
   "execution_count": 61,
   "id": "da9ea150",
   "metadata": {},
   "outputs": [],
   "source": [
    "std = StandardScaler()\n",
    "\n",
    "Xtrain = std.fit_transform(Xtrain,ytrain)\n",
    "Xtest = std.transform(Xtest)"
   ]
  },
  {
   "cell_type": "code",
   "execution_count": 33,
   "id": "ddca831d",
   "metadata": {},
   "outputs": [],
   "source": [
    "pickle.dump(std,open('scaling.pkl','wb'))"
   ]
  },
  {
   "cell_type": "code",
   "execution_count": 34,
   "id": "950768da",
   "metadata": {},
   "outputs": [
    {
     "name": "stderr",
     "output_type": "stream",
     "text": [
      "100%|██████████| 42/42 [00:32<00:00,  1.28it/s]\n"
     ]
    }
   ],
   "source": [
    "models,predictions = LazyRegressor().fit(Xtrain, Xtest, ytrain, ytest)"
   ]
  },
  {
   "cell_type": "code",
   "execution_count": 35,
   "id": "9480e328",
   "metadata": {},
   "outputs": [
    {
     "data": {
      "text/html": [
       "<div>\n",
       "<style scoped>\n",
       "    .dataframe tbody tr th:only-of-type {\n",
       "        vertical-align: middle;\n",
       "    }\n",
       "\n",
       "    .dataframe tbody tr th {\n",
       "        vertical-align: top;\n",
       "    }\n",
       "\n",
       "    .dataframe thead th {\n",
       "        text-align: right;\n",
       "    }\n",
       "</style>\n",
       "<table border=\"1\" class=\"dataframe\">\n",
       "  <thead>\n",
       "    <tr style=\"text-align: right;\">\n",
       "      <th></th>\n",
       "      <th>Adjusted R-Squared</th>\n",
       "      <th>R-Squared</th>\n",
       "      <th>RMSE</th>\n",
       "      <th>Time Taken</th>\n",
       "    </tr>\n",
       "    <tr>\n",
       "      <th>Model</th>\n",
       "      <th></th>\n",
       "      <th></th>\n",
       "      <th></th>\n",
       "      <th></th>\n",
       "    </tr>\n",
       "  </thead>\n",
       "  <tbody>\n",
       "    <tr>\n",
       "      <th>RandomForestRegressor</th>\n",
       "      <td>0.77</td>\n",
       "      <td>0.79</td>\n",
       "      <td>3.86</td>\n",
       "      <td>0.94</td>\n",
       "    </tr>\n",
       "    <tr>\n",
       "      <th>XGBRegressor</th>\n",
       "      <td>0.76</td>\n",
       "      <td>0.79</td>\n",
       "      <td>3.87</td>\n",
       "      <td>0.81</td>\n",
       "    </tr>\n",
       "    <tr>\n",
       "      <th>GradientBoostingRegressor</th>\n",
       "      <td>0.74</td>\n",
       "      <td>0.77</td>\n",
       "      <td>4.02</td>\n",
       "      <td>0.91</td>\n",
       "    </tr>\n",
       "    <tr>\n",
       "      <th>BaggingRegressor</th>\n",
       "      <td>0.74</td>\n",
       "      <td>0.77</td>\n",
       "      <td>4.06</td>\n",
       "      <td>0.17</td>\n",
       "    </tr>\n",
       "    <tr>\n",
       "      <th>ExtraTreesRegressor</th>\n",
       "      <td>0.73</td>\n",
       "      <td>0.76</td>\n",
       "      <td>4.10</td>\n",
       "      <td>1.11</td>\n",
       "    </tr>\n",
       "    <tr>\n",
       "      <th>HistGradientBoostingRegressor</th>\n",
       "      <td>0.72</td>\n",
       "      <td>0.75</td>\n",
       "      <td>4.20</td>\n",
       "      <td>6.88</td>\n",
       "    </tr>\n",
       "    <tr>\n",
       "      <th>LGBMRegressor</th>\n",
       "      <td>0.71</td>\n",
       "      <td>0.73</td>\n",
       "      <td>4.32</td>\n",
       "      <td>0.30</td>\n",
       "    </tr>\n",
       "    <tr>\n",
       "      <th>AdaBoostRegressor</th>\n",
       "      <td>0.68</td>\n",
       "      <td>0.71</td>\n",
       "      <td>4.53</td>\n",
       "      <td>0.84</td>\n",
       "    </tr>\n",
       "    <tr>\n",
       "      <th>DecisionTreeRegressor</th>\n",
       "      <td>0.61</td>\n",
       "      <td>0.65</td>\n",
       "      <td>4.95</td>\n",
       "      <td>0.03</td>\n",
       "    </tr>\n",
       "    <tr>\n",
       "      <th>PoissonRegressor</th>\n",
       "      <td>0.60</td>\n",
       "      <td>0.64</td>\n",
       "      <td>5.04</td>\n",
       "      <td>0.04</td>\n",
       "    </tr>\n",
       "    <tr>\n",
       "      <th>RidgeCV</th>\n",
       "      <td>0.56</td>\n",
       "      <td>0.60</td>\n",
       "      <td>5.26</td>\n",
       "      <td>0.05</td>\n",
       "    </tr>\n",
       "    <tr>\n",
       "      <th>BayesianRidge</th>\n",
       "      <td>0.56</td>\n",
       "      <td>0.60</td>\n",
       "      <td>5.26</td>\n",
       "      <td>0.10</td>\n",
       "    </tr>\n",
       "    <tr>\n",
       "      <th>ElasticNetCV</th>\n",
       "      <td>0.56</td>\n",
       "      <td>0.60</td>\n",
       "      <td>5.27</td>\n",
       "      <td>0.30</td>\n",
       "    </tr>\n",
       "    <tr>\n",
       "      <th>SGDRegressor</th>\n",
       "      <td>0.56</td>\n",
       "      <td>0.60</td>\n",
       "      <td>5.27</td>\n",
       "      <td>0.03</td>\n",
       "    </tr>\n",
       "    <tr>\n",
       "      <th>Ridge</th>\n",
       "      <td>0.56</td>\n",
       "      <td>0.60</td>\n",
       "      <td>5.28</td>\n",
       "      <td>0.04</td>\n",
       "    </tr>\n",
       "    <tr>\n",
       "      <th>LassoCV</th>\n",
       "      <td>0.56</td>\n",
       "      <td>0.60</td>\n",
       "      <td>5.29</td>\n",
       "      <td>0.40</td>\n",
       "    </tr>\n",
       "    <tr>\n",
       "      <th>LassoLarsIC</th>\n",
       "      <td>0.56</td>\n",
       "      <td>0.60</td>\n",
       "      <td>5.29</td>\n",
       "      <td>0.10</td>\n",
       "    </tr>\n",
       "    <tr>\n",
       "      <th>Lars</th>\n",
       "      <td>0.56</td>\n",
       "      <td>0.60</td>\n",
       "      <td>5.29</td>\n",
       "      <td>0.05</td>\n",
       "    </tr>\n",
       "    <tr>\n",
       "      <th>LinearRegression</th>\n",
       "      <td>0.56</td>\n",
       "      <td>0.60</td>\n",
       "      <td>5.29</td>\n",
       "      <td>0.06</td>\n",
       "    </tr>\n",
       "    <tr>\n",
       "      <th>TransformedTargetRegressor</th>\n",
       "      <td>0.56</td>\n",
       "      <td>0.60</td>\n",
       "      <td>5.29</td>\n",
       "      <td>0.04</td>\n",
       "    </tr>\n",
       "    <tr>\n",
       "      <th>HuberRegressor</th>\n",
       "      <td>0.54</td>\n",
       "      <td>0.59</td>\n",
       "      <td>5.38</td>\n",
       "      <td>0.05</td>\n",
       "    </tr>\n",
       "    <tr>\n",
       "      <th>LassoLarsCV</th>\n",
       "      <td>0.53</td>\n",
       "      <td>0.58</td>\n",
       "      <td>5.45</td>\n",
       "      <td>0.12</td>\n",
       "    </tr>\n",
       "    <tr>\n",
       "      <th>LarsCV</th>\n",
       "      <td>0.53</td>\n",
       "      <td>0.58</td>\n",
       "      <td>5.45</td>\n",
       "      <td>0.14</td>\n",
       "    </tr>\n",
       "    <tr>\n",
       "      <th>ExtraTreeRegressor</th>\n",
       "      <td>0.53</td>\n",
       "      <td>0.57</td>\n",
       "      <td>5.47</td>\n",
       "      <td>0.05</td>\n",
       "    </tr>\n",
       "    <tr>\n",
       "      <th>OrthogonalMatchingPursuitCV</th>\n",
       "      <td>0.52</td>\n",
       "      <td>0.57</td>\n",
       "      <td>5.49</td>\n",
       "      <td>0.06</td>\n",
       "    </tr>\n",
       "    <tr>\n",
       "      <th>KNeighborsRegressor</th>\n",
       "      <td>0.52</td>\n",
       "      <td>0.57</td>\n",
       "      <td>5.49</td>\n",
       "      <td>0.05</td>\n",
       "    </tr>\n",
       "    <tr>\n",
       "      <th>Lasso</th>\n",
       "      <td>0.52</td>\n",
       "      <td>0.57</td>\n",
       "      <td>5.51</td>\n",
       "      <td>0.05</td>\n",
       "    </tr>\n",
       "    <tr>\n",
       "      <th>RANSACRegressor</th>\n",
       "      <td>0.52</td>\n",
       "      <td>0.57</td>\n",
       "      <td>5.51</td>\n",
       "      <td>0.82</td>\n",
       "    </tr>\n",
       "    <tr>\n",
       "      <th>LinearSVR</th>\n",
       "      <td>0.51</td>\n",
       "      <td>0.56</td>\n",
       "      <td>5.56</td>\n",
       "      <td>0.04</td>\n",
       "    </tr>\n",
       "    <tr>\n",
       "      <th>ElasticNet</th>\n",
       "      <td>0.51</td>\n",
       "      <td>0.55</td>\n",
       "      <td>5.60</td>\n",
       "      <td>0.05</td>\n",
       "    </tr>\n",
       "    <tr>\n",
       "      <th>SVR</th>\n",
       "      <td>0.50</td>\n",
       "      <td>0.55</td>\n",
       "      <td>5.61</td>\n",
       "      <td>0.12</td>\n",
       "    </tr>\n",
       "    <tr>\n",
       "      <th>GammaRegressor</th>\n",
       "      <td>0.50</td>\n",
       "      <td>0.55</td>\n",
       "      <td>5.64</td>\n",
       "      <td>0.13</td>\n",
       "    </tr>\n",
       "    <tr>\n",
       "      <th>NuSVR</th>\n",
       "      <td>0.49</td>\n",
       "      <td>0.54</td>\n",
       "      <td>5.66</td>\n",
       "      <td>0.07</td>\n",
       "    </tr>\n",
       "    <tr>\n",
       "      <th>TweedieRegressor</th>\n",
       "      <td>0.49</td>\n",
       "      <td>0.54</td>\n",
       "      <td>5.69</td>\n",
       "      <td>0.08</td>\n",
       "    </tr>\n",
       "    <tr>\n",
       "      <th>OrthogonalMatchingPursuit</th>\n",
       "      <td>0.44</td>\n",
       "      <td>0.49</td>\n",
       "      <td>5.96</td>\n",
       "      <td>0.06</td>\n",
       "    </tr>\n",
       "    <tr>\n",
       "      <th>MLPRegressor</th>\n",
       "      <td>0.31</td>\n",
       "      <td>0.38</td>\n",
       "      <td>6.60</td>\n",
       "      <td>5.03</td>\n",
       "    </tr>\n",
       "    <tr>\n",
       "      <th>PassiveAggressiveRegressor</th>\n",
       "      <td>0.31</td>\n",
       "      <td>0.37</td>\n",
       "      <td>6.62</td>\n",
       "      <td>0.05</td>\n",
       "    </tr>\n",
       "    <tr>\n",
       "      <th>GaussianProcessRegressor</th>\n",
       "      <td>0.02</td>\n",
       "      <td>0.11</td>\n",
       "      <td>7.88</td>\n",
       "      <td>0.72</td>\n",
       "    </tr>\n",
       "    <tr>\n",
       "      <th>QuantileRegressor</th>\n",
       "      <td>-0.11</td>\n",
       "      <td>-0.00</td>\n",
       "      <td>8.37</td>\n",
       "      <td>11.56</td>\n",
       "    </tr>\n",
       "    <tr>\n",
       "      <th>DummyRegressor</th>\n",
       "      <td>-0.14</td>\n",
       "      <td>-0.03</td>\n",
       "      <td>8.50</td>\n",
       "      <td>0.02</td>\n",
       "    </tr>\n",
       "    <tr>\n",
       "      <th>LassoLars</th>\n",
       "      <td>-0.14</td>\n",
       "      <td>-0.03</td>\n",
       "      <td>8.50</td>\n",
       "      <td>0.06</td>\n",
       "    </tr>\n",
       "    <tr>\n",
       "      <th>KernelRidge</th>\n",
       "      <td>-7.56</td>\n",
       "      <td>-6.74</td>\n",
       "      <td>23.28</td>\n",
       "      <td>0.09</td>\n",
       "    </tr>\n",
       "  </tbody>\n",
       "</table>\n",
       "</div>"
      ],
      "text/plain": [
       "                               Adjusted R-Squared  R-Squared  RMSE  Time Taken\n",
       "Model                                                                         \n",
       "RandomForestRegressor                        0.77       0.79  3.86        0.94\n",
       "XGBRegressor                                 0.76       0.79  3.87        0.81\n",
       "GradientBoostingRegressor                    0.74       0.77  4.02        0.91\n",
       "BaggingRegressor                             0.74       0.77  4.06        0.17\n",
       "ExtraTreesRegressor                          0.73       0.76  4.10        1.11\n",
       "HistGradientBoostingRegressor                0.72       0.75  4.20        6.88\n",
       "LGBMRegressor                                0.71       0.73  4.32        0.30\n",
       "AdaBoostRegressor                            0.68       0.71  4.53        0.84\n",
       "DecisionTreeRegressor                        0.61       0.65  4.95        0.03\n",
       "PoissonRegressor                             0.60       0.64  5.04        0.04\n",
       "RidgeCV                                      0.56       0.60  5.26        0.05\n",
       "BayesianRidge                                0.56       0.60  5.26        0.10\n",
       "ElasticNetCV                                 0.56       0.60  5.27        0.30\n",
       "SGDRegressor                                 0.56       0.60  5.27        0.03\n",
       "Ridge                                        0.56       0.60  5.28        0.04\n",
       "LassoCV                                      0.56       0.60  5.29        0.40\n",
       "LassoLarsIC                                  0.56       0.60  5.29        0.10\n",
       "Lars                                         0.56       0.60  5.29        0.05\n",
       "LinearRegression                             0.56       0.60  5.29        0.06\n",
       "TransformedTargetRegressor                   0.56       0.60  5.29        0.04\n",
       "HuberRegressor                               0.54       0.59  5.38        0.05\n",
       "LassoLarsCV                                  0.53       0.58  5.45        0.12\n",
       "LarsCV                                       0.53       0.58  5.45        0.14\n",
       "ExtraTreeRegressor                           0.53       0.57  5.47        0.05\n",
       "OrthogonalMatchingPursuitCV                  0.52       0.57  5.49        0.06\n",
       "KNeighborsRegressor                          0.52       0.57  5.49        0.05\n",
       "Lasso                                        0.52       0.57  5.51        0.05\n",
       "RANSACRegressor                              0.52       0.57  5.51        0.82\n",
       "LinearSVR                                    0.51       0.56  5.56        0.04\n",
       "ElasticNet                                   0.51       0.55  5.60        0.05\n",
       "SVR                                          0.50       0.55  5.61        0.12\n",
       "GammaRegressor                               0.50       0.55  5.64        0.13\n",
       "NuSVR                                        0.49       0.54  5.66        0.07\n",
       "TweedieRegressor                             0.49       0.54  5.69        0.08\n",
       "OrthogonalMatchingPursuit                    0.44       0.49  5.96        0.06\n",
       "MLPRegressor                                 0.31       0.38  6.60        5.03\n",
       "PassiveAggressiveRegressor                   0.31       0.37  6.62        0.05\n",
       "GaussianProcessRegressor                     0.02       0.11  7.88        0.72\n",
       "QuantileRegressor                           -0.11      -0.00  8.37       11.56\n",
       "DummyRegressor                              -0.14      -0.03  8.50        0.02\n",
       "LassoLars                                   -0.14      -0.03  8.50        0.06\n",
       "KernelRidge                                 -7.56      -6.74 23.28        0.09"
      ]
     },
     "execution_count": 35,
     "metadata": {},
     "output_type": "execute_result"
    }
   ],
   "source": [
    "models"
   ]
  },
  {
   "cell_type": "markdown",
   "id": "b75c6b12",
   "metadata": {},
   "source": [
    "# Without hyperparameter tuning"
   ]
  },
  {
   "cell_type": "code",
   "execution_count": 64,
   "id": "f2277b2b",
   "metadata": {},
   "outputs": [],
   "source": [
    "rf = RandomForestRegressor()\n",
    "\n",
    "rf.fit(Xtrain,ytrain)\n",
    "predict = rf.predict(Xtest)"
   ]
  },
  {
   "cell_type": "code",
   "execution_count": 65,
   "id": "9aacb038",
   "metadata": {},
   "outputs": [
    {
     "data": {
      "text/plain": [
       "2.424055118110237"
      ]
     },
     "execution_count": 65,
     "metadata": {},
     "output_type": "execute_result"
    }
   ],
   "source": [
    "mean_absolute_error(ytest, predict)"
   ]
  },
  {
   "cell_type": "code",
   "execution_count": 66,
   "id": "74a88ffb",
   "metadata": {},
   "outputs": [
    {
     "data": {
      "text/plain": [
       "15.617771330708665"
      ]
     },
     "execution_count": 66,
     "metadata": {},
     "output_type": "execute_result"
    }
   ],
   "source": [
    "mean_squared_error(ytest, predict)"
   ]
  },
  {
   "cell_type": "code",
   "execution_count": 39,
   "id": "534fded9",
   "metadata": {},
   "outputs": [
    {
     "data": {
      "text/plain": [
       "<seaborn.axisgrid.FacetGrid at 0x258f348ae80>"
      ]
     },
     "execution_count": 39,
     "metadata": {},
     "output_type": "execute_result"
    },
    {
     "data": {
      "image/png": "[encoded data removed]",
      "text/plain": [
       "<Figure size 500x500 with 1 Axes>"
      ]
     },
     "metadata": {},
     "output_type": "display_data"
    }
   ],
   "source": [
    "residual = ytest-predict\n",
    "sns.displot(residual, kind='kde')"
   ]
  },
  {
   "cell_type": "code",
   "execution_count": 40,
   "id": "7769c4f4",
   "metadata": {},
   "outputs": [
    {
     "data": {
      "text/plain": [
       "0.8029853274090684"
      ]
     },
     "execution_count": 40,
     "metadata": {},
     "output_type": "execute_result"
    }
   ],
   "source": [
    "# coefficient of determination\n",
    "r2_score(ytest, predict)"
   ]
  },
  {
   "cell_type": "code",
   "execution_count": 41,
   "id": "2c8f0766",
   "metadata": {},
   "outputs": [],
   "source": [
    "# Formula : Adj r2 = 1-(1-r2)*((n-1)/(n-p-1))\n",
    "# r2 = sample R2 (or score)\n",
    "# n = total sample size\n",
    "# p = no. of predictors\n",
    "#function to create adjusted r2\n",
    "\n",
    "def adj_r2(a,b):\n",
    "    r2 = r2_score(a,b)\n",
    "    n = len(a)\n",
    "    p = Xtest.shape[1]\n",
    "    adjusted_r2 = 1-((1-r2)*(n-1))/(n-p-1)\n",
    "    print(adjusted_r2)\n",
    "    "
   ]
  },
  {
   "cell_type": "code",
   "execution_count": 42,
   "id": "6623749e",
   "metadata": {},
   "outputs": [
    {
     "name": "stdout",
     "output_type": "stream",
     "text": [
      "0.7822469408205492\n"
     ]
    }
   ],
   "source": [
    "adj_r2(ytest,predict) #has to be lesser than r2"
   ]
  },
  {
   "cell_type": "code",
   "execution_count": 67,
   "id": "31254bd6",
   "metadata": {},
   "outputs": [
    {
     "data": {
      "text/plain": [
       "array([0.79805428, 0.75228387, 0.83791696, 0.72584819, 0.58453798])"
      ]
     },
     "execution_count": 67,
     "metadata": {},
     "output_type": "execute_result"
    }
   ],
   "source": [
    "rf_train_scores = cross_val_score(rf, Xtrain,ytrain, scoring='r2', cv = KFold(5))\n",
    "rf_train_scores"
   ]
  },
  {
   "cell_type": "code",
   "execution_count": 68,
   "id": "5ced0cd0",
   "metadata": {},
   "outputs": [
    {
     "data": {
      "text/plain": [
       "0.7397282584113979"
      ]
     },
     "execution_count": 68,
     "metadata": {},
     "output_type": "execute_result"
    }
   ],
   "source": [
    "rf_train_scores.mean()"
   ]
  },
  {
   "cell_type": "code",
   "execution_count": 69,
   "id": "77d571bb",
   "metadata": {},
   "outputs": [
    {
     "data": {
      "text/plain": [
       "array([0.76284992, 0.81236311, 0.72764314, 0.37670055, 0.60472361])"
      ]
     },
     "execution_count": 69,
     "metadata": {},
     "output_type": "execute_result"
    }
   ],
   "source": [
    "rf_test_scores = cross_val_score(rf, Xtest,ytest, scoring='r2', cv = KFold(5))\n",
    "rf_test_scores"
   ]
  },
  {
   "cell_type": "code",
   "execution_count": 70,
   "id": "d3767c4f",
   "metadata": {},
   "outputs": [
    {
     "data": {
      "text/plain": [
       "0.6568560652709772"
      ]
     },
     "execution_count": 70,
     "metadata": {},
     "output_type": "execute_result"
    }
   ],
   "source": [
    "rf_test_scores.mean()"
   ]
  },
  {
   "cell_type": "markdown",
   "id": "ceace366",
   "metadata": {},
   "source": [
    "# Hyperparameter Tuning"
   ]
  },
  {
   "cell_type": "code",
   "execution_count": 47,
   "id": "b5c215c8",
   "metadata": {},
   "outputs": [],
   "source": [
    "cv = KFold(5)"
   ]
  },
  {
   "cell_type": "code",
   "execution_count": 48,
   "id": "3f07fcd6",
   "metadata": {},
   "outputs": [],
   "source": [
    "params = { 'n_estimators' : [100, 150, 200, 250, 300, 400], \n",
    "             'criterion' : ['squared_error', 'absolute_error', 'poisson'], \n",
    "             'max_depth' : range(2, 40, 1), \n",
    "             'min_samples_split' : range(2, 40, 1), \n",
    "             'min_samples_leaf' : range(2, 40, 1), \n",
    "             'max_features' : ['sqrt', 'log2'],\n",
    "          'max_leaf_nodes' : range(2, 40)\n",
    "             }"
   ]
  },
  {
   "cell_type": "code",
   "execution_count": 49,
   "id": "eace0f78",
   "metadata": {},
   "outputs": [],
   "source": [
    "tune = RandomizedSearchCV(rf, params, cv = cv, n_jobs=-1, verbose=3)"
   ]
  },
  {
   "cell_type": "code",
   "execution_count": 50,
   "id": "ceba4129",
   "metadata": {},
   "outputs": [
    {
     "name": "stdout",
     "output_type": "stream",
     "text": [
      "Fitting 5 folds for each of 10 candidates, totalling 50 fits\n"
     ]
    },
    {
     "data": {
      "text/plain": [
       "RandomizedSearchCV(cv=KFold(n_splits=5, random_state=None, shuffle=False),\n",
       "                   estimator=RandomForestRegressor(), n_jobs=-1,\n",
       "                   param_distributions={'criterion': ['squared_error',\n",
       "                                                      'absolute_error',\n",
       "                                                      'poisson'],\n",
       "                                        'max_depth': range(2, 40),\n",
       "                                        'max_features': ['sqrt', 'log2'],\n",
       "                                        'max_leaf_nodes': range(2, 40),\n",
       "                                        'min_samples_leaf': range(2, 40),\n",
       "                                        'min_samples_split': range(2, 40),\n",
       "                                        'n_estimators': [100, 150, 200, 250,\n",
       "                                                         300, 400]},\n",
       "                   verbose=3)"
      ]
     },
     "execution_count": 50,
     "metadata": {},
     "output_type": "execute_result"
    }
   ],
   "source": [
    "tune.fit(Xtrain, ytrain)"
   ]
  },
  {
   "cell_type": "code",
   "execution_count": 51,
   "id": "6ea86ade",
   "metadata": {},
   "outputs": [
    {
     "data": {
      "text/plain": [
       "RandomForestRegressor(criterion='poisson', max_depth=34, max_features='sqrt',\n",
       "                      max_leaf_nodes=34, min_samples_leaf=13,\n",
       "                      min_samples_split=5, n_estimators=250)"
      ]
     },
     "execution_count": 51,
     "metadata": {},
     "output_type": "execute_result"
    }
   ],
   "source": [
    "tune.best_estimator_"
   ]
  },
  {
   "cell_type": "code",
   "execution_count": 52,
   "id": "1fe22de8",
   "metadata": {},
   "outputs": [],
   "source": [
    "new_rf = RandomForestRegressor(criterion='poisson', max_depth=34, max_features='sqrt',\n",
    "                      max_leaf_nodes=34, min_samples_leaf=13,\n",
    "                      min_samples_split=5, n_estimators=250)"
   ]
  },
  {
   "cell_type": "code",
   "execution_count": 53,
   "id": "7a4afeb4",
   "metadata": {},
   "outputs": [],
   "source": [
    "new_rf.fit(Xtrain, ytrain)\n",
    "predict = new_rf.predict(Xtest)"
   ]
  },
  {
   "cell_type": "code",
   "execution_count": 54,
   "id": "d1d4bd17",
   "metadata": {},
   "outputs": [
    {
     "data": {
      "text/plain": [
       "3.427333577304168"
      ]
     },
     "execution_count": 54,
     "metadata": {},
     "output_type": "execute_result"
    }
   ],
   "source": [
    "mean_absolute_error(ytest, predict)"
   ]
  },
  {
   "cell_type": "code",
   "execution_count": 55,
   "id": "62fe37ee",
   "metadata": {},
   "outputs": [
    {
     "data": {
      "text/plain": [
       "25.890168372049477"
      ]
     },
     "execution_count": 55,
     "metadata": {},
     "output_type": "execute_result"
    }
   ],
   "source": [
    "mean_squared_error(ytest, predict)"
   ]
  },
  {
   "cell_type": "code",
   "execution_count": 56,
   "id": "ae2505ee",
   "metadata": {},
   "outputs": [
    {
     "data": {
      "text/plain": [
       "0.6302838153750058"
      ]
     },
     "execution_count": 56,
     "metadata": {},
     "output_type": "execute_result"
    }
   ],
   "source": [
    "r2_score(ytest, predict)"
   ]
  },
  {
   "cell_type": "code",
   "execution_count": 57,
   "id": "43543b14",
   "metadata": {},
   "outputs": [
    {
     "name": "stdout",
     "output_type": "stream",
     "text": [
      "0.5913663222565854\n"
     ]
    }
   ],
   "source": [
    "adj_r2(ytest, predict)"
   ]
  },
  {
   "cell_type": "markdown",
   "id": "c79c7199",
   "metadata": {},
   "source": [
    "### Trying LightGBM because it is not included in LazyRegressor"
   ]
  },
  {
   "cell_type": "code",
   "execution_count": 56,
   "id": "d737b452",
   "metadata": {},
   "outputs": [],
   "source": [
    "lgbm = lightgbm.LGBMRegressor()"
   ]
  },
  {
   "cell_type": "code",
   "execution_count": 71,
   "id": "310addc8",
   "metadata": {},
   "outputs": [
    {
     "name": "stdout",
     "output_type": "stream",
     "text": [
      "[0.78374262 0.78834442 0.87551057 0.76661618 0.65252741] \n",
      " 0.7733482386428866\n"
     ]
    }
   ],
   "source": [
    "lgbm_train_scores = cross_val_score(lgbm,Xtrain,ytrain,scoring='r2',cv = KFold(5))\n",
    "print(lgbm_train_scores, '\\n', lgbm_train_scores.mean())"
   ]
  },
  {
   "cell_type": "code",
   "execution_count": 72,
   "id": "43420af0",
   "metadata": {},
   "outputs": [
    {
     "name": "stdout",
     "output_type": "stream",
     "text": [
      "[0.66715253 0.56183162 0.66172699 0.42366079 0.42408658] \n",
      " 0.547691701619236\n"
     ]
    }
   ],
   "source": [
    "lgbm_test_scores = cross_val_score(lgbm,Xtest,ytest,scoring='r2',cv = KFold(5))\n",
    "print(lgbm_test_scores, '\\n', lgbm_test_scores.mean())"
   ]
  },
  {
   "cell_type": "code",
   "execution_count": 75,
   "id": "fd48a1ae",
   "metadata": {},
   "outputs": [
    {
     "data": {
      "text/plain": [
       "(0.6568560652709772, 0.547691701619236)"
      ]
     },
     "execution_count": 75,
     "metadata": {},
     "output_type": "execute_result"
    }
   ],
   "source": [
    "rf_test_scores.mean(), lgbm_test_scores.mean()"
   ]
  },
  {
   "cell_type": "raw",
   "id": "e053d34d",
   "metadata": {},
   "source": [
    "------------------------------------------------------"
   ]
  },
  {
   "cell_type": "markdown",
   "id": "2bff2139",
   "metadata": {},
   "source": [
    "### Even with hyper-paramter optimization, r2 score of base model achieves higher results. \n",
    "\n",
    "### Hyperparamters can be tuned more efficiently by adding or removing few parameters. \n",
    "\n",
    "### For now, let us consider base model."
   ]
  },
  {
   "cell_type": "markdown",
   "id": "f6fc43eb",
   "metadata": {},
   "source": [
    "# New Data Prediction - prediction of single data point instead of bulk"
   ]
  },
  {
   "cell_type": "code",
   "execution_count": 317,
   "id": "771b12fc",
   "metadata": {},
   "outputs": [],
   "source": [
    "to_predict = df.iloc[:1,:-1]"
   ]
  },
  {
   "cell_type": "code",
   "execution_count": 319,
   "id": "de9fcc85",
   "metadata": {},
   "outputs": [
    {
     "data": {
      "text/html": [
       "<div>\n",
       "<style scoped>\n",
       "    .dataframe tbody tr th:only-of-type {\n",
       "        vertical-align: middle;\n",
       "    }\n",
       "\n",
       "    .dataframe tbody tr th {\n",
       "        vertical-align: top;\n",
       "    }\n",
       "\n",
       "    .dataframe thead th {\n",
       "        text-align: right;\n",
       "    }\n",
       "</style>\n",
       "<table border=\"1\" class=\"dataframe\">\n",
       "  <thead>\n",
       "    <tr style=\"text-align: right;\">\n",
       "      <th></th>\n",
       "      <th>CRIM</th>\n",
       "      <th>ZN</th>\n",
       "      <th>INDUS</th>\n",
       "      <th>CHAS</th>\n",
       "      <th>NOX</th>\n",
       "      <th>RM</th>\n",
       "      <th>AGE</th>\n",
       "      <th>DIS</th>\n",
       "      <th>RAD</th>\n",
       "      <th>PTRATIO</th>\n",
       "      <th>B</th>\n",
       "      <th>LSTAT</th>\n",
       "    </tr>\n",
       "  </thead>\n",
       "  <tbody>\n",
       "    <tr>\n",
       "      <th>0</th>\n",
       "      <td>0.01</td>\n",
       "      <td>18.00</td>\n",
       "      <td>2.31</td>\n",
       "      <td>0.00</td>\n",
       "      <td>0.54</td>\n",
       "      <td>6.58</td>\n",
       "      <td>65.20</td>\n",
       "      <td>4.09</td>\n",
       "      <td>1</td>\n",
       "      <td>19.10</td>\n",
       "      <td>391.43</td>\n",
       "      <td>4.98</td>\n",
       "    </tr>\n",
       "  </tbody>\n",
       "</table>\n",
       "</div>"
      ],
      "text/plain": [
       "   CRIM    ZN  INDUS  CHAS  NOX   RM   AGE  DIS  RAD  PTRATIO      B  LSTAT\n",
       "0  0.01 18.00   2.31  0.00 0.54 6.58 65.20 4.09    1    19.10 391.43   4.98"
      ]
     },
     "execution_count": 319,
     "metadata": {},
     "output_type": "execute_result"
    }
   ],
   "source": [
    "to_predict.drop(columns=['TAX'], inplace=True)\n",
    "to_predict"
   ]
  },
  {
   "cell_type": "markdown",
   "id": "fdd5ef96",
   "metadata": {},
   "source": [
    "## Standardization will not matter because we are using Random Forest"
   ]
  },
  {
   "cell_type": "code",
   "execution_count": 320,
   "id": "c9c1c87f",
   "metadata": {},
   "outputs": [
    {
     "data": {
      "text/plain": [
       "array([28.523])"
      ]
     },
     "execution_count": 320,
     "metadata": {},
     "output_type": "execute_result"
    }
   ],
   "source": [
    "rf.predict(to_predict)"
   ]
  },
  {
   "cell_type": "code",
   "execution_count": 321,
   "id": "99e59ca7",
   "metadata": {},
   "outputs": [
    {
     "data": {
      "text/html": [
       "<div>\n",
       "<style scoped>\n",
       "    .dataframe tbody tr th:only-of-type {\n",
       "        vertical-align: middle;\n",
       "    }\n",
       "\n",
       "    .dataframe tbody tr th {\n",
       "        vertical-align: top;\n",
       "    }\n",
       "\n",
       "    .dataframe thead th {\n",
       "        text-align: right;\n",
       "    }\n",
       "</style>\n",
       "<table border=\"1\" class=\"dataframe\">\n",
       "  <thead>\n",
       "    <tr style=\"text-align: right;\">\n",
       "      <th></th>\n",
       "      <th>CRIM</th>\n",
       "      <th>ZN</th>\n",
       "      <th>INDUS</th>\n",
       "      <th>CHAS</th>\n",
       "      <th>NOX</th>\n",
       "      <th>RM</th>\n",
       "      <th>AGE</th>\n",
       "      <th>DIS</th>\n",
       "      <th>RAD</th>\n",
       "      <th>TAX</th>\n",
       "      <th>PTRATIO</th>\n",
       "      <th>B</th>\n",
       "      <th>LSTAT</th>\n",
       "      <th>Price</th>\n",
       "    </tr>\n",
       "  </thead>\n",
       "  <tbody>\n",
       "    <tr>\n",
       "      <th>0</th>\n",
       "      <td>0.01</td>\n",
       "      <td>18.00</td>\n",
       "      <td>2.31</td>\n",
       "      <td>0.00</td>\n",
       "      <td>0.54</td>\n",
       "      <td>6.58</td>\n",
       "      <td>65.20</td>\n",
       "      <td>4.09</td>\n",
       "      <td>1</td>\n",
       "      <td>296</td>\n",
       "      <td>19.10</td>\n",
       "      <td>391.43</td>\n",
       "      <td>4.98</td>\n",
       "      <td>24.00</td>\n",
       "    </tr>\n",
       "  </tbody>\n",
       "</table>\n",
       "</div>"
      ],
      "text/plain": [
       "   CRIM    ZN  INDUS  CHAS  NOX   RM  ...  RAD  TAX  PTRATIO      B  LSTAT  Price\n",
       "0  0.01 18.00   2.31  0.00 0.54 6.58  ...    1  296    19.10 391.43   4.98  24.00\n",
       "\n",
       "[1 rows x 14 columns]"
      ]
     },
     "execution_count": 321,
     "metadata": {},
     "output_type": "execute_result"
    }
   ],
   "source": [
    "df[:1] #Price = 28; very close; good model"
   ]
  },
  {
   "cell_type": "markdown",
   "id": "c8b5d691",
   "metadata": {},
   "source": [
    "# Pickle for Deployment"
   ]
  },
  {
   "cell_type": "code",
   "execution_count": 58,
   "id": "557807b0",
   "metadata": {},
   "outputs": [],
   "source": [
    "pickle.dump(rf,open('regmodel.pkl','wb'))"
   ]
  },
  {
   "cell_type": "code",
   "execution_count": 324,
   "id": "3b43274a",
   "metadata": {},
   "outputs": [
    {
     "data": {
      "text/plain": [
       "array([28.523])"
      ]
     },
     "execution_count": 324,
     "metadata": {},
     "output_type": "execute_result"
    }
   ],
   "source": [
    "#checking the pickle file\n",
    "model = pickle.load(open('regmodel.pkl','rb'))\n",
    "model.predict(to_predict)"
   ]
  }
 ],
 "metadata": {
  "kernelspec": {
   "display_name": "Python 3 (ipykernel)",
   "language": "python",
   "name": "python3"
  },
  "language_info": {
   "codemirror_mode": {
    "name": "ipython",
    "version": 3
   },
   "file_extension": ".py",
   "mimetype": "text/x-python",
   "name": "python",
   "nbconvert_exporter": "python",
   "pygments_lexer": "ipython3",
   "version": "3.9.13"
  },
  "vscode": {
   "interpreter": {
    "hash": "805b674e6f96838955323d67b4fd4362287270a663936e04c588f8db1d55dc25"
   }
  }
 },
 "nbformat": 4,
 "nbformat_minor": 5
}
